{
  "metadata": {
    "kernelspec": {
      "language": "python",
      "display_name": "Python 3",
      "name": "python3"
    },
    "language_info": {
      "name": "python",
      "version": "3.10.12",
      "mimetype": "text/x-python",
      "codemirror_mode": {
        "name": "ipython",
        "version": 3
      },
      "pygments_lexer": "ipython3",
      "nbconvert_exporter": "python",
      "file_extension": ".py"
    },
    "kaggle": {
      "accelerator": "none",
      "dataSources": [
        {
          "sourceId": 7315500,
          "sourceType": "datasetVersion",
          "datasetId": 4245142
        }
      ],
      "dockerImageVersionId": 30626,
      "isInternetEnabled": true,
      "language": "python",
      "sourceType": "notebook",
      "isGpuEnabled": false
    },
    "colab": {
      "name": "E-Commerce Data Mining",
      "provenance": [],
      "include_colab_link": true
    }
  },
  "nbformat_minor": 0,
  "nbformat": 4,
  "cells": [
    {
      "cell_type": "markdown",
      "metadata": {
        "id": "view-in-github",
        "colab_type": "text"
      },
      "source": [
        "<a href=\"https://colab.research.google.com/github/tranduytruong12/Assignment_CO4031/blob/main/E_Commerce_Data_Mining.ipynb\" target=\"_parent\"><img src=\"https://colab.research.google.com/assets/colab-badge.svg\" alt=\"Open In Colab\"/></a>"
      ]
    },
    {
      "source": [
        "# IMPORTANT: RUN THIS CELL IN ORDER TO IMPORT YOUR KAGGLE DATA SOURCES,\n",
        "# THEN FEEL FREE TO DELETE THIS CELL.\n",
        "# NOTE: THIS NOTEBOOK ENVIRONMENT DIFFERS FROM KAGGLE'S PYTHON\n",
        "# ENVIRONMENT SO THERE MAY BE MISSING LIBRARIES USED BY YOUR\n",
        "# NOTEBOOK.\n",
        "import kagglehub\n",
        "mmohaiminulislam_ecommerce_data_analysis_path = kagglehub.dataset_download('mmohaiminulislam/ecommerce-data-analysis')\n",
        "\n",
        "print('Data source import complete.')\n"
      ],
      "metadata": {
        "id": "v0xFyeeB5xHZ"
      },
      "cell_type": "code",
      "outputs": [],
      "execution_count": null
    },
    {
      "cell_type": "code",
      "source": [
        "# This Python 3 environment comes with many helpful analytics libraries installed\n",
        "# It is defined by the kaggle/python Docker image: https://github.com/kaggle/docker-python\n",
        "# For example, here's several helpful packages to load\n",
        "\n",
        "import numpy as np # linear algebra\n",
        "import pandas as pd # data processing, CSV file I/O (e.g. pd.read_csv)\n",
        "\n",
        "# Input data files are available in the read-only \"../input/\" directory\n",
        "# For example, running this (by clicking run or pressing Shift+Enter) will list all files under the input directory\n",
        "\n",
        "import os\n",
        "for dirname, _, filenames in os.walk('/kaggle/input'):\n",
        "    for filename in filenames:\n",
        "        print(os.path.join(dirname, filename))\n",
        "\n",
        "# You can write up to 20GB to the current directory (/kaggle/working/) that gets preserved as output when you create a version using \"Save & Run All\"\n",
        "# You can also write temporary files to /kaggle/temp/, but they won't be saved outside of the current session"
      ],
      "metadata": {
        "_uuid": "8f2839f25d086af736a60e9eeb907d3b93b6e0e5",
        "_cell_guid": "b1076dfc-b9ad-4769-8c92-a6c4dae69d19",
        "execution": {
          "iopub.status.busy": "2025-04-08T08:31:30.315758Z",
          "iopub.execute_input": "2025-04-08T08:31:30.31617Z",
          "iopub.status.idle": "2025-04-08T08:31:30.338795Z",
          "shell.execute_reply.started": "2025-04-08T08:31:30.316138Z",
          "shell.execute_reply": "2025-04-08T08:31:30.337691Z"
        },
        "trusted": true,
        "id": "xiIvHuZp5xHb",
        "outputId": "f864430f-aa78-46b4-ab9c-c6d41030487c"
      },
      "outputs": [
        {
          "name": "stdout",
          "text": "/kaggle/input/ecommerce-data-analysis/time_dim.csv\n/kaggle/input/ecommerce-data-analysis/fact_table.csv\n/kaggle/input/ecommerce-data-analysis/Trans_dim.csv\n/kaggle/input/ecommerce-data-analysis/item_dim.csv\n/kaggle/input/ecommerce-data-analysis/store_dim.csv\n/kaggle/input/ecommerce-data-analysis/customer_dim.csv\n",
          "output_type": "stream"
        }
      ],
      "execution_count": null
    },
    {
      "cell_type": "markdown",
      "source": [
        "# Lets Explore and Understand the Data"
      ],
      "metadata": {
        "id": "9MR-4xtn5xHd"
      }
    },
    {
      "cell_type": "code",
      "source": [
        "#here we will use the sqlite3 to load the data\n",
        "import pandas as pd\n",
        "import sqlite3\n",
        "\n",
        "conn = sqlite3.connect(':memory:')"
      ],
      "metadata": {
        "execution": {
          "iopub.status.busy": "2025-04-08T08:31:32.05398Z",
          "iopub.execute_input": "2025-04-08T08:31:32.054356Z",
          "iopub.status.idle": "2025-04-08T08:31:32.070893Z",
          "shell.execute_reply.started": "2025-04-08T08:31:32.054328Z",
          "shell.execute_reply": "2025-04-08T08:31:32.06967Z"
        },
        "trusted": true,
        "id": "BRrgH1Ho5xHf"
      },
      "outputs": [],
      "execution_count": null
    },
    {
      "cell_type": "code",
      "source": [
        "import csv\n",
        "def load_csv_to_db(file_path, table_name):\n",
        "    encodings = ['utf-8', 'ISO-8859-1', 'utf-16', 'Windows-1252']\n",
        "    for encoding in encodings:\n",
        "        try:\n",
        "            with open(file_path, encoding=encoding) as file:\n",
        "                data = list(csv.DictReader(file))\n",
        "                df = pd.DataFrame(data)\n",
        "                df.to_sql(table_name, conn, index=False, if_exists='replace')\n",
        "                print(f\"Loaded {file_path} successfully with encoding: {encoding}\")\n",
        "                break  # Break the loop if the file is loaded successfully\n",
        "        except UnicodeDecodeError:\n",
        "            print(f\"UnicodeDecodeError with encoding: {encoding} for file: {file_path}\")\n",
        "            continue  # Try the next encoding"
      ],
      "metadata": {
        "execution": {
          "iopub.status.busy": "2025-04-08T08:31:33.45347Z",
          "iopub.execute_input": "2025-04-08T08:31:33.453889Z",
          "iopub.status.idle": "2025-04-08T08:31:33.46095Z",
          "shell.execute_reply.started": "2025-04-08T08:31:33.45386Z",
          "shell.execute_reply": "2025-04-08T08:31:33.459693Z"
        },
        "trusted": true,
        "id": "DBB2nme-5xHf"
      },
      "outputs": [],
      "execution_count": null
    },
    {
      "cell_type": "code",
      "source": [
        "import os\n",
        "for dirname, _, filenames in os.walk('/kaggle/input'):\n",
        "    for filename in filenames:\n",
        "        print(f'loading: {filename}')\n",
        "        load_csv_to_db(file_path = os.path.join(dirname, filename), table_name = filename.split('_')[0])\n",
        "        print(f'loaded {filename.split(\"_\")[0]} table into db successfully')"
      ],
      "metadata": {
        "execution": {
          "iopub.status.busy": "2025-04-08T08:31:36.559313Z",
          "iopub.execute_input": "2025-04-08T08:31:36.559743Z",
          "iopub.status.idle": "2025-04-08T08:31:46.994856Z",
          "shell.execute_reply.started": "2025-04-08T08:31:36.559711Z",
          "shell.execute_reply": "2025-04-08T08:31:46.993694Z"
        },
        "trusted": true,
        "id": "m9ShYmzN5xHg",
        "outputId": "d1bc4bc1-6a36-46d7-8fa4-1b355ce0935c"
      },
      "outputs": [
        {
          "name": "stdout",
          "text": "loading: time_dim.csv\nLoaded /kaggle/input/ecommerce-data-analysis/time_dim.csv successfully with encoding: utf-8\nloaded time table into db successfully\nloading: fact_table.csv\nLoaded /kaggle/input/ecommerce-data-analysis/fact_table.csv successfully with encoding: utf-8\nloaded fact table into db successfully\nloading: Trans_dim.csv\nLoaded /kaggle/input/ecommerce-data-analysis/Trans_dim.csv successfully with encoding: utf-8\nloaded Trans table into db successfully\nloading: item_dim.csv\nUnicodeDecodeError with encoding: utf-8 for file: /kaggle/input/ecommerce-data-analysis/item_dim.csv\nLoaded /kaggle/input/ecommerce-data-analysis/item_dim.csv successfully with encoding: ISO-8859-1\nloaded item table into db successfully\nloading: store_dim.csv\nLoaded /kaggle/input/ecommerce-data-analysis/store_dim.csv successfully with encoding: utf-8\nloaded store table into db successfully\nloading: customer_dim.csv\nUnicodeDecodeError with encoding: utf-8 for file: /kaggle/input/ecommerce-data-analysis/customer_dim.csv\nLoaded /kaggle/input/ecommerce-data-analysis/customer_dim.csv successfully with encoding: ISO-8859-1\nloaded customer table into db successfully\n",
          "output_type": "stream"
        }
      ],
      "execution_count": null
    },
    {
      "cell_type": "code",
      "source": [
        "# Function to print the first few rows of each table\n",
        "def preview_table(table_name, num_rows=5):\n",
        "    query = f\"SELECT * FROM {table_name} LIMIT {num_rows};\"\n",
        "    df = pd.read_sql_query(query, conn)\n",
        "    print(f\"Preview of {table_name}:\")\n",
        "    print(df)\n",
        "    print(\"\\n\")"
      ],
      "metadata": {
        "execution": {
          "iopub.status.busy": "2025-04-08T08:31:58.805784Z",
          "iopub.execute_input": "2025-04-08T08:31:58.80618Z",
          "iopub.status.idle": "2025-04-08T08:31:58.811985Z",
          "shell.execute_reply.started": "2025-04-08T08:31:58.80615Z",
          "shell.execute_reply": "2025-04-08T08:31:58.810805Z"
        },
        "trusted": true,
        "id": "uq2V0AaZ5xHg"
      },
      "outputs": [],
      "execution_count": null
    },
    {
      "cell_type": "code",
      "source": [
        "def get_table_names():\n",
        "    query = \"SELECT name FROM sqlite_master WHERE type='table';\"\n",
        "    df = pd.read_sql_query(query, conn)\n",
        "    return df['name'].tolist()\n",
        "\n",
        "# Retrieve table names from the database\n",
        "table_names = get_table_names()\n",
        "print(\"Tables in the database:\", table_names)"
      ],
      "metadata": {
        "execution": {
          "iopub.status.busy": "2025-04-08T08:32:00.90358Z",
          "iopub.execute_input": "2025-04-08T08:32:00.903993Z",
          "iopub.status.idle": "2025-04-08T08:32:00.911451Z",
          "shell.execute_reply.started": "2025-04-08T08:32:00.903965Z",
          "shell.execute_reply": "2025-04-08T08:32:00.910431Z"
        },
        "trusted": true,
        "id": "Uw477ySW5xHh",
        "outputId": "66d68508-6508-4a83-d02a-b3af2f1ea13a"
      },
      "outputs": [
        {
          "name": "stdout",
          "text": "Tables in the database: ['time', 'fact', 'Trans', 'item', 'store', 'customer']\n",
          "output_type": "stream"
        }
      ],
      "execution_count": null
    },
    {
      "cell_type": "code",
      "source": [
        "# Preview each table\n",
        "for table in table_names:\n",
        "    preview_table(table)"
      ],
      "metadata": {
        "execution": {
          "iopub.status.busy": "2025-04-08T08:32:03.140991Z",
          "iopub.execute_input": "2025-04-08T08:32:03.141372Z",
          "iopub.status.idle": "2025-04-08T08:32:03.166465Z",
          "shell.execute_reply.started": "2025-04-08T08:32:03.141343Z",
          "shell.execute_reply": "2025-04-08T08:32:03.165318Z"
        },
        "trusted": true,
        "id": "TTEXw-4s5xHi",
        "outputId": "ebbbab30-563c-45b6-97ac-4459c1ca0eca"
      },
      "outputs": [
        {
          "name": "stdout",
          "text": "Preview of time:\n  time_key              date hour day      week month quarter  year\n0   T00001  20-05-2017 14:56   14  20  3rd Week    05      Q2  2017\n1   T00002  30-01-2015 22:14   22  30  4th Week    01      Q1  2015\n2   T00003  14-03-2020 02:34   02  14  2nd Week    03      Q1  2020\n3   T00004  27-04-2018 12:19   12  27  4th Week    04      Q2  2018\n4   T00005  14-04-2018 10:43   10  14  2nd Week    04      Q2  2018\n\n\nPreview of fact:\n  payment_key coustomer_key time_key item_key store_key quantity   unit  \\\n0        P026       C004510  T049189   I00177    S00307        1     ct   \n1        P022       C008967  T041209   I00248    S00595        1  rolls   \n2        P030       C007261   T03633   I00195    S00496        8     ct   \n3        P032       C007048  T084631   I00131     S0086        8     ct   \n4        P014       C006430  T071276   I00050    S00488        8   cans   \n\n  unit_price total_price  \n0         35          35  \n1         26          26  \n2       12.5         100  \n3         14         112  \n4          8          64  \n\n\nPreview of Trans:\n  payment_key trans_type                         bank_name\n0        P001       cash                              None\n1        P002       card                   AB Bank Limited\n2        P003       card  Bangladesh Commerce Bank Limited\n3        P004       card                 Bank Asia Limited\n4        P005       card                 BRAC Bank Limited\n\n\nPreview of item:\n  item_key                        item_name                desc unit_price  \\\n0   I00001       A&W Root Beer - 12 oz cans  a. Beverage - Soda       11.5   \n1   I00002  A&W Root Beer Diet - 12 oz cans  a. Beverage - Soda       6.75   \n2   I00003    Barq's Root Beer - 12 oz cans  a. Beverage - Soda       6.75   \n3   I00004                 Cherry Coke 12oz  a. Beverage - Soda       6.75   \n4   I00005         Cherry Coke Zero 12 pack  a. Beverage - Soda       6.75   \n\n   man_country            supplier  unit  \n0  Netherlands     Bolsius Boxmeer  cans  \n1       poland  CHROMADURLIN S.A.S  cans  \n2   Bangladesh        DENIMACH LTD  cans  \n3  Netherlands     Bolsius Boxmeer  cans  \n4      Finland         HARDFORD AB  cans  \n\n\nPreview of store:\n  store_key division  district         upazila\n0     S0001   SYLHET  HABIGANJ      AJMIRIGANJ\n1     S0002   SYLHET  HABIGANJ         BAHUBAL\n2     S0003   SYLHET  HABIGANJ      BANIACHONG\n3     S0004   SYLHET  HABIGANJ     CHUNARUGHAT\n4     S0005   SYLHET  HABIGANJ  HABIGANJ SADAR\n\n\nPreview of customer:\n  coustomer_key             name     contact_no            nid\n0       C000001            sumit  8801920345851  7505075708899\n1       C000002         tammanne  8801817069329  1977731324842\n2       C000003    kailash kumar  8801663795774  3769494056318\n3       C000004  bhagwati prasad  8801533627961  9378834712725\n4       C000005             ajay  8801943715786  3540815556323\n\n\n",
          "output_type": "stream"
        }
      ],
      "execution_count": null
    },
    {
      "cell_type": "markdown",
      "source": [
        "# Sales Trends Over Time"
      ],
      "metadata": {
        "id": "5gONl8xm5xHj"
      }
    },
    {
      "cell_type": "code",
      "source": [
        "query = \"\"\"\n",
        "SELECT t.year, t.month, SUM(f.total_price) as total_sales\n",
        "FROM fact f\n",
        "JOIN time t ON f.time_key = t.time_key\n",
        "GROUP BY t.year, t.month\n",
        "ORDER BY t.year, t.month;\n",
        "\"\"\"\n",
        "\n",
        "# Execute the query using pandas\n",
        "result_df = pd.read_sql_query(query, conn)\n",
        "\n",
        "# Display the result\n",
        "print(result_df)\n",
        "\n"
      ],
      "metadata": {
        "execution": {
          "iopub.status.busy": "2025-04-08T08:32:10.111735Z",
          "iopub.execute_input": "2025-04-08T08:32:10.112147Z",
          "iopub.status.idle": "2025-04-08T08:32:12.918504Z",
          "shell.execute_reply.started": "2025-04-08T08:32:10.112117Z",
          "shell.execute_reply": "2025-04-08T08:32:12.917227Z"
        },
        "trusted": true,
        "id": "RR1Sxf2K5xHj",
        "outputId": "09d50e80-84ea-4552-8c78-200668cb7f85"
      },
      "outputs": [
        {
          "name": "stdout",
          "text": "    year month  total_sales\n0   2014    01    496549.25\n1   2014    02   1122547.00\n2   2014    03   1262435.75\n3   2014    04   1245142.50\n4   2014    05   1268770.50\n..   ...   ...          ...\n80  2020    09   1232639.75\n81  2020    10   1319655.75\n82  2020    11   1200248.75\n83  2020    12   1346884.75\n84  2021    01    883772.25\n\n[85 rows x 3 columns]\n",
          "output_type": "stream"
        }
      ],
      "execution_count": null
    },
    {
      "cell_type": "code",
      "source": [
        "import plotly.express as px\n",
        "# Convert 'year' and 'month' to a datetime object for plotting\n",
        "result_df['date'] = pd.to_datetime(result_df[['year', 'month']].assign(DAY=1))\n",
        "\n",
        "# Create an interactive line plot\n",
        "fig = px.line(result_df, x='date', y='total_sales',\n",
        "              title='Sales Trend Over Time',\n",
        "              labels={'date': 'Date', 'total_sales': 'Total Sales'})\n",
        "\n",
        "# Enhance the layout\n",
        "fig.update_layout(xaxis_title='Date', yaxis_title='Total Sales',\n",
        "                  xaxis=dict(showgrid=False), yaxis=dict(showgrid=False))\n",
        "\n",
        "# Show the plot\n",
        "fig.show()"
      ],
      "metadata": {
        "execution": {
          "iopub.status.busy": "2025-04-08T08:32:15.113853Z",
          "iopub.execute_input": "2025-04-08T08:32:15.114222Z",
          "iopub.status.idle": "2025-04-08T08:32:15.177047Z",
          "shell.execute_reply.started": "2025-04-08T08:32:15.114195Z",
          "shell.execute_reply": "2025-04-08T08:32:15.175887Z"
        },
        "trusted": true,
        "id": "AHf1-zD-5xHk",
        "outputId": "46fca106-c947-4af9-bc36-41e0b6517c13"
      },
      "outputs": [
        {
          "output_type": "display_data",
          "data": {
            "text/html": "<div>                            <div id=\"d41237e7-4bef-4964-8e6b-56e564412812\" class=\"plotly-graph-div\" style=\"height:525px; width:100%;\"></div>            <script type=\"text/javascript\">                require([\"plotly\"], function(Plotly) {                    window.PLOTLYENV=window.PLOTLYENV || {};                                    if (document.getElementById(\"d41237e7-4bef-4964-8e6b-56e564412812\")) {                    Plotly.newPlot(                        \"d41237e7-4bef-4964-8e6b-56e564412812\",                        [{\"hovertemplate\":\"Date=%{x}\\u003cbr\\u003eTotal Sales=%{y}\\u003cextra\\u003e\\u003c\\u002fextra\\u003e\",\"legendgroup\":\"\",\"line\":{\"color\":\"#636efa\",\"dash\":\"solid\"},\"marker\":{\"symbol\":\"circle\"},\"mode\":\"lines\",\"name\":\"\",\"orientation\":\"v\",\"showlegend\":false,\"x\":[\"2014-01-01T00:00:00\",\"2014-02-01T00:00:00\",\"2014-03-01T00:00:00\",\"2014-04-01T00:00:00\",\"2014-05-01T00:00:00\",\"2014-06-01T00:00:00\",\"2014-07-01T00:00:00\",\"2014-08-01T00:00:00\",\"2014-09-01T00:00:00\",\"2014-10-01T00:00:00\",\"2014-11-01T00:00:00\",\"2014-12-01T00:00:00\",\"2015-01-01T00:00:00\",\"2015-02-01T00:00:00\",\"2015-03-01T00:00:00\",\"2015-04-01T00:00:00\",\"2015-05-01T00:00:00\",\"2015-06-01T00:00:00\",\"2015-07-01T00:00:00\",\"2015-08-01T00:00:00\",\"2015-09-01T00:00:00\",\"2015-10-01T00:00:00\",\"2015-11-01T00:00:00\",\"2015-12-01T00:00:00\",\"2016-01-01T00:00:00\",\"2016-02-01T00:00:00\",\"2016-03-01T00:00:00\",\"2016-04-01T00:00:00\",\"2016-05-01T00:00:00\",\"2016-06-01T00:00:00\",\"2016-07-01T00:00:00\",\"2016-08-01T00:00:00\",\"2016-09-01T00:00:00\",\"2016-10-01T00:00:00\",\"2016-11-01T00:00:00\",\"2016-12-01T00:00:00\",\"2017-01-01T00:00:00\",\"2017-02-01T00:00:00\",\"2017-03-01T00:00:00\",\"2017-04-01T00:00:00\",\"2017-05-01T00:00:00\",\"2017-06-01T00:00:00\",\"2017-07-01T00:00:00\",\"2017-08-01T00:00:00\",\"2017-09-01T00:00:00\",\"2017-10-01T00:00:00\",\"2017-11-01T00:00:00\",\"2017-12-01T00:00:00\",\"2018-01-01T00:00:00\",\"2018-02-01T00:00:00\",\"2018-03-01T00:00:00\",\"2018-04-01T00:00:00\",\"2018-05-01T00:00:00\",\"2018-06-01T00:00:00\",\"2018-07-01T00:00:00\",\"2018-08-01T00:00:00\",\"2018-09-01T00:00:00\",\"2018-10-01T00:00:00\",\"2018-11-01T00:00:00\",\"2018-12-01T00:00:00\",\"2019-01-01T00:00:00\",\"2019-02-01T00:00:00\",\"2019-03-01T00:00:00\",\"2019-04-01T00:00:00\",\"2019-05-01T00:00:00\",\"2019-06-01T00:00:00\",\"2019-07-01T00:00:00\",\"2019-08-01T00:00:00\",\"2019-09-01T00:00:00\",\"2019-10-01T00:00:00\",\"2019-11-01T00:00:00\",\"2019-12-01T00:00:00\",\"2020-01-01T00:00:00\",\"2020-02-01T00:00:00\",\"2020-03-01T00:00:00\",\"2020-04-01T00:00:00\",\"2020-05-01T00:00:00\",\"2020-06-01T00:00:00\",\"2020-07-01T00:00:00\",\"2020-08-01T00:00:00\",\"2020-09-01T00:00:00\",\"2020-10-01T00:00:00\",\"2020-11-01T00:00:00\",\"2020-12-01T00:00:00\",\"2021-01-01T00:00:00\"],\"xaxis\":\"x\",\"y\":[496549.25,1122547.0,1262435.75,1245142.5,1268770.5,1240771.75,1317296.0,1293211.0,1279444.25,1299793.5,1211569.75,1297200.0,1239765.0,1157159.75,1296063.75,1193564.0,1345707.75,1216952.75,1328373.25,1256038.75,1277976.75,1256143.25,1248595.75,1279379.5,1202031.5,1222807.25,1312405.75,1217547.0,1313370.5,1193281.75,1298100.75,1208266.0,1252952.5,1211723.5,1297116.75,1246905.0,1293917.25,1144129.5,1261669.25,1238081.25,1286428.5,1244332.0,1255821.5,1324086.75,1239157.0,1274048.0,1238362.25,1215772.75,1292509.5,1148761.5,1252282.5,1197510.0,1331593.25,1254822.0,1304771.25,1307927.75,1215575.75,1236509.5,1235201.25,1330733.0,1341867.0,1149508.5,1295730.0,1201298.0,1266431.5,1158766.0,1291609.75,1257271.75,1226580.5,1304910.25,1248931.5,1206605.5,1291832.25,1128964.0,1258565.0,1211492.0,1265700.5,1247926.75,1250607.5,1282673.25,1232639.75,1319655.75,1200248.75,1346884.75,883772.25],\"yaxis\":\"y\",\"type\":\"scatter\"}],                        {\"template\":{\"data\":{\"histogram2dcontour\":[{\"type\":\"histogram2dcontour\",\"colorbar\":{\"outlinewidth\":0,\"ticks\":\"\"},\"colorscale\":[[0.0,\"#0d0887\"],[0.1111111111111111,\"#46039f\"],[0.2222222222222222,\"#7201a8\"],[0.3333333333333333,\"#9c179e\"],[0.4444444444444444,\"#bd3786\"],[0.5555555555555556,\"#d8576b\"],[0.6666666666666666,\"#ed7953\"],[0.7777777777777778,\"#fb9f3a\"],[0.8888888888888888,\"#fdca26\"],[1.0,\"#f0f921\"]]}],\"choropleth\":[{\"type\":\"choropleth\",\"colorbar\":{\"outlinewidth\":0,\"ticks\":\"\"}}],\"histogram2d\":[{\"type\":\"histogram2d\",\"colorbar\":{\"outlinewidth\":0,\"ticks\":\"\"},\"colorscale\":[[0.0,\"#0d0887\"],[0.1111111111111111,\"#46039f\"],[0.2222222222222222,\"#7201a8\"],[0.3333333333333333,\"#9c179e\"],[0.4444444444444444,\"#bd3786\"],[0.5555555555555556,\"#d8576b\"],[0.6666666666666666,\"#ed7953\"],[0.7777777777777778,\"#fb9f3a\"],[0.8888888888888888,\"#fdca26\"],[1.0,\"#f0f921\"]]}],\"heatmap\":[{\"type\":\"heatmap\",\"colorbar\":{\"outlinewidth\":0,\"ticks\":\"\"},\"colorscale\":[[0.0,\"#0d0887\"],[0.1111111111111111,\"#46039f\"],[0.2222222222222222,\"#7201a8\"],[0.3333333333333333,\"#9c179e\"],[0.4444444444444444,\"#bd3786\"],[0.5555555555555556,\"#d8576b\"],[0.6666666666666666,\"#ed7953\"],[0.7777777777777778,\"#fb9f3a\"],[0.8888888888888888,\"#fdca26\"],[1.0,\"#f0f921\"]]}],\"heatmapgl\":[{\"type\":\"heatmapgl\",\"colorbar\":{\"outlinewidth\":0,\"ticks\":\"\"},\"colorscale\":[[0.0,\"#0d0887\"],[0.1111111111111111,\"#46039f\"],[0.2222222222222222,\"#7201a8\"],[0.3333333333333333,\"#9c179e\"],[0.4444444444444444,\"#bd3786\"],[0.5555555555555556,\"#d8576b\"],[0.6666666666666666,\"#ed7953\"],[0.7777777777777778,\"#fb9f3a\"],[0.8888888888888888,\"#fdca26\"],[1.0,\"#f0f921\"]]}],\"contourcarpet\":[{\"type\":\"contourcarpet\",\"colorbar\":{\"outlinewidth\":0,\"ticks\":\"\"}}],\"contour\":[{\"type\":\"contour\",\"colorbar\":{\"outlinewidth\":0,\"ticks\":\"\"},\"colorscale\":[[0.0,\"#0d0887\"],[0.1111111111111111,\"#46039f\"],[0.2222222222222222,\"#7201a8\"],[0.3333333333333333,\"#9c179e\"],[0.4444444444444444,\"#bd3786\"],[0.5555555555555556,\"#d8576b\"],[0.6666666666666666,\"#ed7953\"],[0.7777777777777778,\"#fb9f3a\"],[0.8888888888888888,\"#fdca26\"],[1.0,\"#f0f921\"]]}],\"surface\":[{\"type\":\"surface\",\"colorbar\":{\"outlinewidth\":0,\"ticks\":\"\"},\"colorscale\":[[0.0,\"#0d0887\"],[0.1111111111111111,\"#46039f\"],[0.2222222222222222,\"#7201a8\"],[0.3333333333333333,\"#9c179e\"],[0.4444444444444444,\"#bd3786\"],[0.5555555555555556,\"#d8576b\"],[0.6666666666666666,\"#ed7953\"],[0.7777777777777778,\"#fb9f3a\"],[0.8888888888888888,\"#fdca26\"],[1.0,\"#f0f921\"]]}],\"mesh3d\":[{\"type\":\"mesh3d\",\"colorbar\":{\"outlinewidth\":0,\"ticks\":\"\"}}],\"scatter\":[{\"fillpattern\":{\"fillmode\":\"overlay\",\"size\":10,\"solidity\":0.2},\"type\":\"scatter\"}],\"parcoords\":[{\"type\":\"parcoords\",\"line\":{\"colorbar\":{\"outlinewidth\":0,\"ticks\":\"\"}}}],\"scatterpolargl\":[{\"type\":\"scatterpolargl\",\"marker\":{\"colorbar\":{\"outlinewidth\":0,\"ticks\":\"\"}}}],\"bar\":[{\"error_x\":{\"color\":\"#2a3f5f\"},\"error_y\":{\"color\":\"#2a3f5f\"},\"marker\":{\"line\":{\"color\":\"#E5ECF6\",\"width\":0.5},\"pattern\":{\"fillmode\":\"overlay\",\"size\":10,\"solidity\":0.2}},\"type\":\"bar\"}],\"scattergeo\":[{\"type\":\"scattergeo\",\"marker\":{\"colorbar\":{\"outlinewidth\":0,\"ticks\":\"\"}}}],\"scatterpolar\":[{\"type\":\"scatterpolar\",\"marker\":{\"colorbar\":{\"outlinewidth\":0,\"ticks\":\"\"}}}],\"histogram\":[{\"marker\":{\"pattern\":{\"fillmode\":\"overlay\",\"size\":10,\"solidity\":0.2}},\"type\":\"histogram\"}],\"scattergl\":[{\"type\":\"scattergl\",\"marker\":{\"colorbar\":{\"outlinewidth\":0,\"ticks\":\"\"}}}],\"scatter3d\":[{\"type\":\"scatter3d\",\"line\":{\"colorbar\":{\"outlinewidth\":0,\"ticks\":\"\"}},\"marker\":{\"colorbar\":{\"outlinewidth\":0,\"ticks\":\"\"}}}],\"scattermapbox\":[{\"type\":\"scattermapbox\",\"marker\":{\"colorbar\":{\"outlinewidth\":0,\"ticks\":\"\"}}}],\"scatterternary\":[{\"type\":\"scatterternary\",\"marker\":{\"colorbar\":{\"outlinewidth\":0,\"ticks\":\"\"}}}],\"scattercarpet\":[{\"type\":\"scattercarpet\",\"marker\":{\"colorbar\":{\"outlinewidth\":0,\"ticks\":\"\"}}}],\"carpet\":[{\"aaxis\":{\"endlinecolor\":\"#2a3f5f\",\"gridcolor\":\"white\",\"linecolor\":\"white\",\"minorgridcolor\":\"white\",\"startlinecolor\":\"#2a3f5f\"},\"baxis\":{\"endlinecolor\":\"#2a3f5f\",\"gridcolor\":\"white\",\"linecolor\":\"white\",\"minorgridcolor\":\"white\",\"startlinecolor\":\"#2a3f5f\"},\"type\":\"carpet\"}],\"table\":[{\"cells\":{\"fill\":{\"color\":\"#EBF0F8\"},\"line\":{\"color\":\"white\"}},\"header\":{\"fill\":{\"color\":\"#C8D4E3\"},\"line\":{\"color\":\"white\"}},\"type\":\"table\"}],\"barpolar\":[{\"marker\":{\"line\":{\"color\":\"#E5ECF6\",\"width\":0.5},\"pattern\":{\"fillmode\":\"overlay\",\"size\":10,\"solidity\":0.2}},\"type\":\"barpolar\"}],\"pie\":[{\"automargin\":true,\"type\":\"pie\"}]},\"layout\":{\"autotypenumbers\":\"strict\",\"colorway\":[\"#636efa\",\"#EF553B\",\"#00cc96\",\"#ab63fa\",\"#FFA15A\",\"#19d3f3\",\"#FF6692\",\"#B6E880\",\"#FF97FF\",\"#FECB52\"],\"font\":{\"color\":\"#2a3f5f\"},\"hovermode\":\"closest\",\"hoverlabel\":{\"align\":\"left\"},\"paper_bgcolor\":\"white\",\"plot_bgcolor\":\"#E5ECF6\",\"polar\":{\"bgcolor\":\"#E5ECF6\",\"angularaxis\":{\"gridcolor\":\"white\",\"linecolor\":\"white\",\"ticks\":\"\"},\"radialaxis\":{\"gridcolor\":\"white\",\"linecolor\":\"white\",\"ticks\":\"\"}},\"ternary\":{\"bgcolor\":\"#E5ECF6\",\"aaxis\":{\"gridcolor\":\"white\",\"linecolor\":\"white\",\"ticks\":\"\"},\"baxis\":{\"gridcolor\":\"white\",\"linecolor\":\"white\",\"ticks\":\"\"},\"caxis\":{\"gridcolor\":\"white\",\"linecolor\":\"white\",\"ticks\":\"\"}},\"coloraxis\":{\"colorbar\":{\"outlinewidth\":0,\"ticks\":\"\"}},\"colorscale\":{\"sequential\":[[0.0,\"#0d0887\"],[0.1111111111111111,\"#46039f\"],[0.2222222222222222,\"#7201a8\"],[0.3333333333333333,\"#9c179e\"],[0.4444444444444444,\"#bd3786\"],[0.5555555555555556,\"#d8576b\"],[0.6666666666666666,\"#ed7953\"],[0.7777777777777778,\"#fb9f3a\"],[0.8888888888888888,\"#fdca26\"],[1.0,\"#f0f921\"]],\"sequentialminus\":[[0.0,\"#0d0887\"],[0.1111111111111111,\"#46039f\"],[0.2222222222222222,\"#7201a8\"],[0.3333333333333333,\"#9c179e\"],[0.4444444444444444,\"#bd3786\"],[0.5555555555555556,\"#d8576b\"],[0.6666666666666666,\"#ed7953\"],[0.7777777777777778,\"#fb9f3a\"],[0.8888888888888888,\"#fdca26\"],[1.0,\"#f0f921\"]],\"diverging\":[[0,\"#8e0152\"],[0.1,\"#c51b7d\"],[0.2,\"#de77ae\"],[0.3,\"#f1b6da\"],[0.4,\"#fde0ef\"],[0.5,\"#f7f7f7\"],[0.6,\"#e6f5d0\"],[0.7,\"#b8e186\"],[0.8,\"#7fbc41\"],[0.9,\"#4d9221\"],[1,\"#276419\"]]},\"xaxis\":{\"gridcolor\":\"white\",\"linecolor\":\"white\",\"ticks\":\"\",\"title\":{\"standoff\":15},\"zerolinecolor\":\"white\",\"automargin\":true,\"zerolinewidth\":2},\"yaxis\":{\"gridcolor\":\"white\",\"linecolor\":\"white\",\"ticks\":\"\",\"title\":{\"standoff\":15},\"zerolinecolor\":\"white\",\"automargin\":true,\"zerolinewidth\":2},\"scene\":{\"xaxis\":{\"backgroundcolor\":\"#E5ECF6\",\"gridcolor\":\"white\",\"linecolor\":\"white\",\"showbackground\":true,\"ticks\":\"\",\"zerolinecolor\":\"white\",\"gridwidth\":2},\"yaxis\":{\"backgroundcolor\":\"#E5ECF6\",\"gridcolor\":\"white\",\"linecolor\":\"white\",\"showbackground\":true,\"ticks\":\"\",\"zerolinecolor\":\"white\",\"gridwidth\":2},\"zaxis\":{\"backgroundcolor\":\"#E5ECF6\",\"gridcolor\":\"white\",\"linecolor\":\"white\",\"showbackground\":true,\"ticks\":\"\",\"zerolinecolor\":\"white\",\"gridwidth\":2}},\"shapedefaults\":{\"line\":{\"color\":\"#2a3f5f\"}},\"annotationdefaults\":{\"arrowcolor\":\"#2a3f5f\",\"arrowhead\":0,\"arrowwidth\":1},\"geo\":{\"bgcolor\":\"white\",\"landcolor\":\"#E5ECF6\",\"subunitcolor\":\"white\",\"showland\":true,\"showlakes\":true,\"lakecolor\":\"white\"},\"title\":{\"x\":0.05},\"mapbox\":{\"style\":\"light\"}}},\"xaxis\":{\"anchor\":\"y\",\"domain\":[0.0,1.0],\"title\":{\"text\":\"Date\"},\"showgrid\":false},\"yaxis\":{\"anchor\":\"x\",\"domain\":[0.0,1.0],\"title\":{\"text\":\"Total Sales\"},\"showgrid\":false},\"legend\":{\"tracegroupgap\":0},\"title\":{\"text\":\"Sales Trend Over Time\"}},                        {\"responsive\": true}                    ).then(function(){\n                            \nvar gd = document.getElementById('d41237e7-4bef-4964-8e6b-56e564412812');\nvar x = new MutationObserver(function (mutations, observer) {{\n        var display = window.getComputedStyle(gd).display;\n        if (!display || display === 'none') {{\n            console.log([gd, 'removed!']);\n            Plotly.purge(gd);\n            observer.disconnect();\n        }}\n}});\n\n// Listen for the removal of the full notebook cells\nvar notebookContainer = gd.closest('#notebook-container');\nif (notebookContainer) {{\n    x.observe(notebookContainer, {childList: true});\n}}\n\n// Listen for the clearing of the current output cell\nvar outputEl = gd.closest('.output');\nif (outputEl) {{\n    x.observe(outputEl, {childList: true});\n}}\n\n                        })                };                });            </script>        </div>"
          },
          "metadata": {}
        }
      ],
      "execution_count": null
    },
    {
      "cell_type": "markdown",
      "source": [
        "The graph represents a time series of total sales from January 2014 to January 2021. Over these seven years, the sales figures show variability month-to-month, with no clear long-term upward or downward trend until the end of the observed period.\n",
        "\n",
        "Throughout the period from 2014 to 2020, the sales figures fluctuate regularly, indicating a pattern that might correspond to seasonal trends or specific business cycles. For example, there might be peaks that correspond to holiday seasons or sales events, and troughs that might align with traditionally slower sales periods.\n",
        "\n",
        "Notably, the sales figures consistently stay above approximately 1.2 million units, suggesting a steady demand for the products or services offered. Peaks in sales, such as those exceeding 1.3 million units, could be indicative of successful marketing campaigns, periods of increased consumer spending, or the introduction of popular products.\n",
        "\n",
        "However, a significant drop is observed in January 2021, where sales fall below 900,000 units. This sudden decrease deviates from the previous years' patterns and could be a sign of a critical event or change impacting the business. Potential factors could include economic downturns, changes in consumer behavior, increased competition, or internal company challenges."
      ],
      "metadata": {
        "id": "_Kb-7gPB5xHl"
      }
    },
    {
      "cell_type": "markdown",
      "source": [
        "# Product Performance"
      ],
      "metadata": {
        "id": "4xbouxmH5xHm"
      }
    },
    {
      "cell_type": "code",
      "source": [
        "query = \"\"\"\n",
        "SELECT i.item_name, SUM(f.quantity) as total_quantity_sold\n",
        "FROM fact f\n",
        "JOIN item i ON f.item_key = i.item_key\n",
        "GROUP BY i.item_name\n",
        "ORDER BY total_quantity_sold DESC;\n",
        "\"\"\"\n",
        "\n",
        "product_performance = pd.read_sql_query(query, conn)\n",
        "\n",
        "print(product_performance)"
      ],
      "metadata": {
        "execution": {
          "iopub.status.busy": "2025-04-08T08:32:29.086093Z",
          "iopub.execute_input": "2025-04-08T08:32:29.08649Z",
          "iopub.status.idle": "2025-04-08T08:32:30.462841Z",
          "shell.execute_reply.started": "2025-04-08T08:32:29.08646Z",
          "shell.execute_reply": "2025-04-08T08:32:30.461708Z"
        },
        "trusted": true,
        "id": "Ikv8twuh5xHm",
        "outputId": "16fe7373-e67f-4019-eedf-b169040f65f3"
      },
      "outputs": [
        {
          "name": "stdout",
          "text": "                               item_name  total_quantity_sold\n0                     Pepsi - 12 oz cans                46837\n1    Muscle Milk Protein Shake Van. 11oz                45665\n2                Coke Classic 12 oz cans                45501\n3                 Diet Coke - 12 oz cans                45202\n4                    Sprite - 12 oz cans                45140\n..                                   ...                  ...\n254        Dole Fruit in Gel Cups 4.3 oz                21818\n255      La Croix Sparkling Orange 12 oz                21817\n256        Hershey Factory Favorites Mix                21741\n257                   Monster Java 15 oz                21698\n258               Snyders Pretzels Minis                21647\n\n[259 rows x 2 columns]\n",
          "output_type": "stream"
        }
      ],
      "execution_count": null
    },
    {
      "cell_type": "code",
      "source": [
        "fig = px.bar(product_performance,\n",
        "             x='total_quantity_sold',\n",
        "             y='item_name',\n",
        "             orientation='h', # horizontal bar chart\n",
        "             title='Product Performance: Quantity Sold per Item')\n",
        "\n",
        "fig.update_layout(xaxis_title='Total Quantity Sold',\n",
        "                  yaxis_title='Item Name',\n",
        "                  yaxis=dict(showgrid=False, categoryorder='total ascending'), # combine yaxis settings\n",
        "                  xaxis=dict(showgrid=False))\n",
        "\n",
        "# Show the plot\n",
        "fig.show()"
      ],
      "metadata": {
        "execution": {
          "iopub.status.busy": "2025-04-08T08:32:38.344689Z",
          "iopub.execute_input": "2025-04-08T08:32:38.345786Z",
          "iopub.status.idle": "2025-04-08T08:32:38.454183Z",
          "shell.execute_reply.started": "2025-04-08T08:32:38.34574Z",
          "shell.execute_reply": "2025-04-08T08:32:38.452841Z"
        },
        "trusted": true,
        "id": "g6uYb82O5xHn",
        "outputId": "e7da41b7-e8a1-4fc8-dcef-5a27c6c455e3"
      },
      "outputs": [
        {
          "output_type": "display_data",
          "data": {
            "text/html": "<div>                            <div id=\"bca5eff2-c87c-419b-bcde-1f2ad7002a6c\" class=\"plotly-graph-div\" style=\"height:525px; width:100%;\"></div>            <script type=\"text/javascript\">                require([\"plotly\"], function(Plotly) {                    window.PLOTLYENV=window.PLOTLYENV || {};                                    if (document.getElementById(\"bca5eff2-c87c-419b-bcde-1f2ad7002a6c\")) {                    Plotly.newPlot(                        \"bca5eff2-c87c-419b-bcde-1f2ad7002a6c\",                        [{\"alignmentgroup\":\"True\",\"hovertemplate\":\"total_quantity_sold=%{x}\\u003cbr\\u003eitem_name=%{y}\\u003cextra\\u003e\\u003c\\u002fextra\\u003e\",\"legendgroup\":\"\",\"marker\":{\"color\":\"#636efa\",\"pattern\":{\"shape\":\"\"}},\"name\":\"\",\"offsetgroup\":\"\",\"orientation\":\"h\",\"showlegend\":false,\"textposition\":\"auto\",\"x\":[46837,45665,45501,45202,45140,23969,23958,23852,23740,23648,23623,23621,23583,23560,23516,23498,23474,23454,23435,23429,23425,23360,23359,23357,23356,23349,23343,23343,23325,23323,23308,23289,23273,23264,23262,23254,23253,23253,23244,23242,23236,23232,23231,23216,23190,23182,23177,23174,23165,23160,23158,23152,23126,23126,23120,23116,23108,23084,23058,23032,23022,23014,23012,23005,22993,22993,22990,22966,22963,22961,22954,22951,22950,22939,22929,22929,22928,22928,22926,22924,22908,22903,22901,22895,22887,22886,22882,22880,22879,22876,22866,22863,22863,22853,22851,22850,22842,22839,22837,22833,22832,22832,22829,22828,22827,22824,22818,22816,22812,22812,22804,22800,22800,22799,22798,22788,22787,22786,22783,22782,22780,22774,22772,22759,22757,22749,22733,22727,22725,22723,22714,22714,22710,22698,22691,22690,22688,22684,22680,22679,22674,22672,22669,22663,22661,22660,22656,22652,22641,22637,22628,22627,22624,22623,22622,22608,22608,22604,22601,22597,22596,22593,22591,22579,22577,22565,22561,22557,22545,22545,22541,22539,22533,22529,22519,22511,22510,22508,22507,22504,22494,22487,22483,22480,22479,22476,22464,22458,22456,22455,22453,22440,22437,22432,22431,22419,22402,22399,22396,22394,22393,22391,22390,22384,22380,22377,22362,22354,22354,22352,22352,22349,22347,22342,22329,22327,22326,22311,22306,22305,22302,22297,22297,22296,22296,22293,22291,22286,22276,22270,22241,22240,22232,22222,22203,22194,22191,22189,22184,22119,22096,22080,22078,22071,22054,22021,21995,21975,21949,21945,21928,21866,21852,21827,21818,21817,21741,21698,21647],\"xaxis\":\"x\",\"y\":[\"Pepsi - 12 oz cans\",\"Muscle Milk Protein Shake Van. 11oz\",\"Coke Classic 12 oz cans\",\"Diet Coke - 12 oz cans\",\"Sprite - 12 oz cans\",\"Diet Pepsi - 12 oz cans\",\"Nat.Valley PeanutButter Protein Bars\",\"Nabisco Classic Mix ccooki, cracker\",\"Red Bull 12oz\",\"Cascade Gel Packs Dishwasher\",\"A&W Root Beer - 12 oz cans\",\"Starbuck's Pike Place\",\"Kellogg's Cereals Assortment Pack \",\"Quaker Instant Oatmeal Maple Brn Sugar\",\"Chinet Comfort Hot Cups with Lids 16oz\",\"K Cups Daily Chef Columbian Supremo\",\"Gatorade Variety 20 oz \",\"Wonderful Pistachios (in shell)\",\"Large Trash Bags Black 33 gal\",\"Clear Plastic Cups 9oz\",\"100% Juice Box Variety 6.75 oz \",\"Swiss Miss Hot Cocoa Mix 1 oz\",\"Ocean Spray Cranberry Juice Cocktail 15oz \",\"Charmin Ultra Bath Tissue\",\"Baked Chips Variety Mix Frito\",\"Hand Sanitizer Refill Pump\",\"Red Bull Sugar Free 8.4 oz\",\"Doritos Nacho Cheese 1 oz\",\"Sobe Zero Lifewater Variety 20 oz\",\"Planters Nut-trition 1.5 oz \",\"Coffee-Mate Original Flavor Cold\",\"Waterloo Sparkling Original 12oz\",\"Reese's Pieces Peanutbutter Candy\",\"Foam Coffee Cups - 20 ounce\",\"M&M Peanut Butter 1.6 oz\",\"Pop Chips Variety bags\",\"Napkins Square Lunch\",\"Cheez It White Cheddar 1.5 oz\",\"Njoy Sugar Canister 22 oz\",\"Frito Classic Mix Variety\",\"Tropicana Apple Juice 10 oz 100% \",\"Miss Vickies Chips\",\"Red Bull 8.4 oz\",\"Belvita Hard Biscuits Cinnamon\",\"Detour Lower Sugar Protein Bar\",\"A&W Root Beer Diet - 12 oz cans\",\"Coffee-Mate French Vanilla Cold\",\"Vita Coconut Water 10oz \",\"Pop-Tarts, Brown Sugar Cinnamon \",\"Reese's Peanutbutter Cups 2\\u002fpk\",\"Clorox Bleach Large Jugs\",\"Ginger Ale - 12 oz cans\",\"Waterloo Sparkling Mango 12oz\",\"Advil 2 pill packets\",\"K Cups Dunkin Donuts Medium Roast\",\"Paper Plates 7 inch  Ultra Strong\",\"Topo Chico 20oz plastic\",\"Muscle Milk Protein Shake Strbry. 11oz\",\"La Croix Sparkling Grapefruit 12 oz\",\"Sweet N Low Sweetener\",\"Monster Original Green 16 oz\",\"Cascade Gel w\\u002f Dawn Dishwasher\",\"Nabisco Cookie Variety Pk Oreo\\u002fChocChip\",\"Spunkmeyer Muffin Variety\",\"Lunchables Variety Pack Oscar Meyer\",\"ForceFlex Trash Bags 13 Gal \",\"Gardettos Snacks\",\"Pringles Snak Stacks Variety\",\"La Croix Sparkling Coconut 12 oz\",\"M&M Variety Full Size Bags\",\"Fresca Black Cherry - 12 oz cans\",\"V-8 Splash Variety 20 oz\",\"Kind  Bars Variety Pack 1.4 oz \",\"Fuze Iced Tea\",\"Splenda Sweetener\",\"Diet Fuze Iced Tea\",\"Foam Coffee Cups - 16 ounce\",\"Barq's Root Beer - 12 oz cans\",\"Flamin Hot Chip Mix 1oz\",\"Chobani Greek Yogurt Variety Pack \",\"Goldfish Pepperidge Farm Cheddar 1.5oz \",\"Clorox Disinfecting Wipes \",\"Fresca Original - 12 oz cans\",\"Mars Mini Mix\",\"G2 Lo Calorie Variety 20 oz\",\"Crunchy Granola Bars Oats & Honey\",\"V8 100% Vegetable Juice 11oz cans\",\"Equal Sweetener\",\"Foam Coffee Cups - 12 ounce\",\"Gatorade Zero Variety 20 oz\",\"Waterloo Sparkling Lime 12oz\",\"Frito BOLD Flavors Variety Pack\",\"Bounty Paper Towels Select a Size \",\"Paper Bowls 20 oz Ultra Strong\",\"Pure Leaf Sweet Tea 8.5oz\",\"Altoids Small Packs Variety\",\"Austin Cookie Cracker Variety\",\"La Croix Sparkling Lemon 12 oz\",\"Mars Chocolate Favorites\",\"AquaFina Purified Drinking Water 16oz\",\"San Pelligrino 16oz Plastic \",\"Dawn Ultra Dish Detergent, Original Scent \",\"Diet Coke Caffeine Free 12oz cans\",\"Ice Breaker Mints Sugar Free \",\"Kind  Bars Mini Variety Pack 0.7 oz \",\"Dark Chocolate Mint Patties\",\"Blue Diamond Almonds Rstd, Sltd\",\"Dial Anti-bacterial  Foam 7.5oz\",\"Sugar in the Raw Packets\",\"Njoy Creamer Packs\",\"Monster Zero Ultra 16 oz\",\"Paper Plates 8.5 inch Ultra Strong\",\"Monster Zero Ultra Variety 16 oz\",\"Chewy Granola Variety Bars Quaker\",\"K Cups Organic Breakfast Blend\",\"Cheetos Flamin' Hot 1 oz\",\"Gatorade Lemon Lime 12oz\",\"Peppermints Hard Candy\",\"K Cups - McCafe Premium Roast\",\"Deluxe Mixed Nuts with Seasalt\",\"Cherry Coke 12oz\",\"Waterloo Sparkling Watermelon 12oz\",\"Planters Nut Variety Packs\",\"Cliff Energy Bars Variety Pack\",\"Plastic Forks White Heavyweight\",\"Ozarka Spring Water Mini 8oz\",\"Stirrers Coffee Stirs 7inch\",\"Folgers Classic Roast Coffee\",\"Extra Variety Packs Sugar Free\",\"Truvia Natural Sweetener\",\"La Croix Sparkling Cran-Raspberry 12 oz\",\"Community Coffee Dark Roast\",\"Pop-Tarts, Frosted Strawberry\",\"Propel Zero Variety 20 oz\",\"Breath Savers Peppermints 12\\u002froll \",\"Tylenol Extra Strength 2 pill packets\",\"Ozarka Spring Water 20 oz\",\"Lysol Disinfectant Spray 19 oz\",\"Red Bull 16oz\",\"Njoy Creamer Canister 16 oz\",\"Cheez It Original Crackers 1.5oz\",\"Paper Plate 10 inch Ultra Strong\",\"Wint O Green LifeSavers Sugar Free\",\"Hefty Supreme Foam Bowls 12oz\",\"K Cups Folgers Lively Columbian\",\"Pure Leaf Unsweetened Tea 18.5oz\",\"Lance Variety Cracker Packs \",\"Sun Chips Variety Pack\",\"Apple Sauce Variety GoGO Squeeze 3.2oz\",\"Sunkist Orange - 12 oz cans\",\"Tejava Unsweetened Black Tea 16.9oz\",\"Brisk Lemon Iced Tea - 12 oz cans\",\"K Cups  Starbuck's Pike Place\",\"Muscle Milk Protein Shake Choc. 11oz\",\"Gatorade Frost Variety 12 oz\",\"POM 2 ply paper towels\",\"Coke Zero Sugar 12 oz cans\",\"Cheese and Peanut Butter Crackers\",\"Kleenex Tissue Square Boxes 75\\u002fbox\",\"Half & Half -Land o Lakes Mini Moo's\",\"Gatorade Frost Variety 20 oz \",\"Go-Gurt Low Fat Yogurt, Strwbry & Berry \",\"Gatorade Liberty Variety 12 oz\",\"Quaker Instant Oatmeal Variety \",\"Red Plastic Cups 18oz\",\"Jolly Ranchers Variety Hard Candy\",\"Dixie Perfecttouch Paper Cups 12oz\",\"Strong Everyday Napkins\",\"Topo Chico 12 oz glass\",\"Chex Mix Original\",\"Cherry Coke Zero 12 pack\",\"Fresca Peach Citrus - 12 oz cans\",\"Waterloo Sparkling Grapefruit 12oz\",\"Belvita Protein Oats Soft Biscuit\",\"Double Bubble Variety Tub\",\"Honey Packets  \",\"Perrier Sparkling Water plastic 16.9oz\",\"Hefty Supreme Foam Plates 9 inch\",\"Seven Up - 12 oz cans\",\"Dasani Bottled Water 16.9 oz\",\"Austin Toasty Crackers w\\u002f PBtr\",\"Tropicana Orange Juice 10 oz 100% \",\"K Cups Hot Cocoa\",\"Perrier Flavors Sparkling Water 16.9oz\",\"Snapple Variety Pack 20oz\",\"Veggie Chips 1oz \",\"Keebler Cookie & Cracker Variety\",\"Welch's 100% Juice Variety10 oz\",\"Hawaiian Punch - 12 oz cans\",\"Lysol Wipes 100 ct\",\"Cliff Builders Protein Bar Variety Pack\",\"Coffee-mate Original Powdered Creamer\",\"French Vanilla International Delight\",\"Yoplait Original Yogurt Variety Pack \",\"K Cups Original Donut Shop Med. Roast\",\"Perrier Sparkling Water glass 11oz\",\"Hefty Supreme Foam Plates 6 inch\",\"Peanutbutter Filled Pretzels\",\"Dr. Pepper - 12 oz cans\",\"Hershey Kisses \",\"Nature Valley Biscuit Sandwich Variety Pack \",\"Ozarka Spring Water 16.9 oz bottles\",\"Pure White Sugar Packets\",\"Fiber One 90 Calorie Fudge Brownies\",\"Nestle Purelife 16oz \",\"La Croix Sparkling Berry 12 ozv\",\"Nature Valley Soft Oatmeal Squares   \",\"K Cups - Green Tea\",\"All Purpose Cleaner 409 Spray\",\"La Croix Sparkling Pure 12 oz\",\"Kellogg's Fruity Snacks\",\"Hershey Chocoalte Minatures Assort.\",\"Diet Mountain Dew 12oz cans\",\"Premier Protein Shake Choc. 11oz\",\"Sargento Bal. Breaks (fruit, nut, cheese)\",\"Clear Plastic 12 oz Cups\",\"Unsalted Premium Blend Nuts\",\"Frito Fiesta Flavors Variety\",\"Monster Lo-Carb 16 oz\",\"Folgers 100% Colombian Coffee\",\"Gatorade Original Variety 12 oz\",\"La Croix Sparkling Lime 12 oz\",\"Kleenex Tissue Rectangle Boxes 160\\u002fbox\",\"Waterloo Sparkling Lemon 12oz\",\"Plastic Spoons White  Heavyweight\",\"Fiber One Bars Oats and Chocolate\",\"Trident Original Flavor 18\\u002fpk\",\"Hazelnut International Delight\",\"Diet Gingerale 12 oz cans\",\"Diet Dr. Pepper - 12 oz cans\",\"Foam Coffee Cups - 08 ounce\",\"Dunkin Donuts Original Blend\",\"Nature Valley Chewy Trail Mix Bars\",\"Sprite Zero - 12 pack\",\"Sargento String Cheese 0.75oz\",\"Frito Bold Flavors Variety\",\"Zoo Animal Cookies\\u002fCrackers\",\"Famous Amos Cookies \",\"Frito Big Grab Variety 1.5-2.0 oz\",\"Mountain Dew - 12 oz cans\",\"M&M Peanut Candy 1.7 oz\",\"Goldfish Variety Bags, cheddar, pretzels\",\"Kellogg Fun Mix Cheez it, Prngls, Fam Amos\",\"Nature Valley Sweet\\u002fSalty Almond Bars      \",\"Plastic Knives White  Heavyweight\",\"Snickers Bars 1.8oz\",\"Hershey Nuggets\",\"Nature Valley Sweet\\u002fSalty Peanut Bars      \",\"Gatorade X-Factor Fierce Variety 20 oz\",\"Hefty Cmprtmnt Plates Foam 10'\",\"Gatorade Liberty Variety 20 oz \",\"Tootsie Roll Midgets\",\"Belvita Hard Biscuits Blueberry\",\"Waterloo Sparkling Blackcherry 12oz\",\"Dole Fruit in Gel Cups 4.3 oz\",\"La Croix Sparkling Orange 12 oz\",\"Hershey Factory Favorites Mix\",\"Monster Java 15 oz\",\"Snyders Pretzels Minis\"],\"yaxis\":\"y\",\"type\":\"bar\"}],                        {\"template\":{\"data\":{\"histogram2dcontour\":[{\"type\":\"histogram2dcontour\",\"colorbar\":{\"outlinewidth\":0,\"ticks\":\"\"},\"colorscale\":[[0.0,\"#0d0887\"],[0.1111111111111111,\"#46039f\"],[0.2222222222222222,\"#7201a8\"],[0.3333333333333333,\"#9c179e\"],[0.4444444444444444,\"#bd3786\"],[0.5555555555555556,\"#d8576b\"],[0.6666666666666666,\"#ed7953\"],[0.7777777777777778,\"#fb9f3a\"],[0.8888888888888888,\"#fdca26\"],[1.0,\"#f0f921\"]]}],\"choropleth\":[{\"type\":\"choropleth\",\"colorbar\":{\"outlinewidth\":0,\"ticks\":\"\"}}],\"histogram2d\":[{\"type\":\"histogram2d\",\"colorbar\":{\"outlinewidth\":0,\"ticks\":\"\"},\"colorscale\":[[0.0,\"#0d0887\"],[0.1111111111111111,\"#46039f\"],[0.2222222222222222,\"#7201a8\"],[0.3333333333333333,\"#9c179e\"],[0.4444444444444444,\"#bd3786\"],[0.5555555555555556,\"#d8576b\"],[0.6666666666666666,\"#ed7953\"],[0.7777777777777778,\"#fb9f3a\"],[0.8888888888888888,\"#fdca26\"],[1.0,\"#f0f921\"]]}],\"heatmap\":[{\"type\":\"heatmap\",\"colorbar\":{\"outlinewidth\":0,\"ticks\":\"\"},\"colorscale\":[[0.0,\"#0d0887\"],[0.1111111111111111,\"#46039f\"],[0.2222222222222222,\"#7201a8\"],[0.3333333333333333,\"#9c179e\"],[0.4444444444444444,\"#bd3786\"],[0.5555555555555556,\"#d8576b\"],[0.6666666666666666,\"#ed7953\"],[0.7777777777777778,\"#fb9f3a\"],[0.8888888888888888,\"#fdca26\"],[1.0,\"#f0f921\"]]}],\"heatmapgl\":[{\"type\":\"heatmapgl\",\"colorbar\":{\"outlinewidth\":0,\"ticks\":\"\"},\"colorscale\":[[0.0,\"#0d0887\"],[0.1111111111111111,\"#46039f\"],[0.2222222222222222,\"#7201a8\"],[0.3333333333333333,\"#9c179e\"],[0.4444444444444444,\"#bd3786\"],[0.5555555555555556,\"#d8576b\"],[0.6666666666666666,\"#ed7953\"],[0.7777777777777778,\"#fb9f3a\"],[0.8888888888888888,\"#fdca26\"],[1.0,\"#f0f921\"]]}],\"contourcarpet\":[{\"type\":\"contourcarpet\",\"colorbar\":{\"outlinewidth\":0,\"ticks\":\"\"}}],\"contour\":[{\"type\":\"contour\",\"colorbar\":{\"outlinewidth\":0,\"ticks\":\"\"},\"colorscale\":[[0.0,\"#0d0887\"],[0.1111111111111111,\"#46039f\"],[0.2222222222222222,\"#7201a8\"],[0.3333333333333333,\"#9c179e\"],[0.4444444444444444,\"#bd3786\"],[0.5555555555555556,\"#d8576b\"],[0.6666666666666666,\"#ed7953\"],[0.7777777777777778,\"#fb9f3a\"],[0.8888888888888888,\"#fdca26\"],[1.0,\"#f0f921\"]]}],\"surface\":[{\"type\":\"surface\",\"colorbar\":{\"outlinewidth\":0,\"ticks\":\"\"},\"colorscale\":[[0.0,\"#0d0887\"],[0.1111111111111111,\"#46039f\"],[0.2222222222222222,\"#7201a8\"],[0.3333333333333333,\"#9c179e\"],[0.4444444444444444,\"#bd3786\"],[0.5555555555555556,\"#d8576b\"],[0.6666666666666666,\"#ed7953\"],[0.7777777777777778,\"#fb9f3a\"],[0.8888888888888888,\"#fdca26\"],[1.0,\"#f0f921\"]]}],\"mesh3d\":[{\"type\":\"mesh3d\",\"colorbar\":{\"outlinewidth\":0,\"ticks\":\"\"}}],\"scatter\":[{\"fillpattern\":{\"fillmode\":\"overlay\",\"size\":10,\"solidity\":0.2},\"type\":\"scatter\"}],\"parcoords\":[{\"type\":\"parcoords\",\"line\":{\"colorbar\":{\"outlinewidth\":0,\"ticks\":\"\"}}}],\"scatterpolargl\":[{\"type\":\"scatterpolargl\",\"marker\":{\"colorbar\":{\"outlinewidth\":0,\"ticks\":\"\"}}}],\"bar\":[{\"error_x\":{\"color\":\"#2a3f5f\"},\"error_y\":{\"color\":\"#2a3f5f\"},\"marker\":{\"line\":{\"color\":\"#E5ECF6\",\"width\":0.5},\"pattern\":{\"fillmode\":\"overlay\",\"size\":10,\"solidity\":0.2}},\"type\":\"bar\"}],\"scattergeo\":[{\"type\":\"scattergeo\",\"marker\":{\"colorbar\":{\"outlinewidth\":0,\"ticks\":\"\"}}}],\"scatterpolar\":[{\"type\":\"scatterpolar\",\"marker\":{\"colorbar\":{\"outlinewidth\":0,\"ticks\":\"\"}}}],\"histogram\":[{\"marker\":{\"pattern\":{\"fillmode\":\"overlay\",\"size\":10,\"solidity\":0.2}},\"type\":\"histogram\"}],\"scattergl\":[{\"type\":\"scattergl\",\"marker\":{\"colorbar\":{\"outlinewidth\":0,\"ticks\":\"\"}}}],\"scatter3d\":[{\"type\":\"scatter3d\",\"line\":{\"colorbar\":{\"outlinewidth\":0,\"ticks\":\"\"}},\"marker\":{\"colorbar\":{\"outlinewidth\":0,\"ticks\":\"\"}}}],\"scattermapbox\":[{\"type\":\"scattermapbox\",\"marker\":{\"colorbar\":{\"outlinewidth\":0,\"ticks\":\"\"}}}],\"scatterternary\":[{\"type\":\"scatterternary\",\"marker\":{\"colorbar\":{\"outlinewidth\":0,\"ticks\":\"\"}}}],\"scattercarpet\":[{\"type\":\"scattercarpet\",\"marker\":{\"colorbar\":{\"outlinewidth\":0,\"ticks\":\"\"}}}],\"carpet\":[{\"aaxis\":{\"endlinecolor\":\"#2a3f5f\",\"gridcolor\":\"white\",\"linecolor\":\"white\",\"minorgridcolor\":\"white\",\"startlinecolor\":\"#2a3f5f\"},\"baxis\":{\"endlinecolor\":\"#2a3f5f\",\"gridcolor\":\"white\",\"linecolor\":\"white\",\"minorgridcolor\":\"white\",\"startlinecolor\":\"#2a3f5f\"},\"type\":\"carpet\"}],\"table\":[{\"cells\":{\"fill\":{\"color\":\"#EBF0F8\"},\"line\":{\"color\":\"white\"}},\"header\":{\"fill\":{\"color\":\"#C8D4E3\"},\"line\":{\"color\":\"white\"}},\"type\":\"table\"}],\"barpolar\":[{\"marker\":{\"line\":{\"color\":\"#E5ECF6\",\"width\":0.5},\"pattern\":{\"fillmode\":\"overlay\",\"size\":10,\"solidity\":0.2}},\"type\":\"barpolar\"}],\"pie\":[{\"automargin\":true,\"type\":\"pie\"}]},\"layout\":{\"autotypenumbers\":\"strict\",\"colorway\":[\"#636efa\",\"#EF553B\",\"#00cc96\",\"#ab63fa\",\"#FFA15A\",\"#19d3f3\",\"#FF6692\",\"#B6E880\",\"#FF97FF\",\"#FECB52\"],\"font\":{\"color\":\"#2a3f5f\"},\"hovermode\":\"closest\",\"hoverlabel\":{\"align\":\"left\"},\"paper_bgcolor\":\"white\",\"plot_bgcolor\":\"#E5ECF6\",\"polar\":{\"bgcolor\":\"#E5ECF6\",\"angularaxis\":{\"gridcolor\":\"white\",\"linecolor\":\"white\",\"ticks\":\"\"},\"radialaxis\":{\"gridcolor\":\"white\",\"linecolor\":\"white\",\"ticks\":\"\"}},\"ternary\":{\"bgcolor\":\"#E5ECF6\",\"aaxis\":{\"gridcolor\":\"white\",\"linecolor\":\"white\",\"ticks\":\"\"},\"baxis\":{\"gridcolor\":\"white\",\"linecolor\":\"white\",\"ticks\":\"\"},\"caxis\":{\"gridcolor\":\"white\",\"linecolor\":\"white\",\"ticks\":\"\"}},\"coloraxis\":{\"colorbar\":{\"outlinewidth\":0,\"ticks\":\"\"}},\"colorscale\":{\"sequential\":[[0.0,\"#0d0887\"],[0.1111111111111111,\"#46039f\"],[0.2222222222222222,\"#7201a8\"],[0.3333333333333333,\"#9c179e\"],[0.4444444444444444,\"#bd3786\"],[0.5555555555555556,\"#d8576b\"],[0.6666666666666666,\"#ed7953\"],[0.7777777777777778,\"#fb9f3a\"],[0.8888888888888888,\"#fdca26\"],[1.0,\"#f0f921\"]],\"sequentialminus\":[[0.0,\"#0d0887\"],[0.1111111111111111,\"#46039f\"],[0.2222222222222222,\"#7201a8\"],[0.3333333333333333,\"#9c179e\"],[0.4444444444444444,\"#bd3786\"],[0.5555555555555556,\"#d8576b\"],[0.6666666666666666,\"#ed7953\"],[0.7777777777777778,\"#fb9f3a\"],[0.8888888888888888,\"#fdca26\"],[1.0,\"#f0f921\"]],\"diverging\":[[0,\"#8e0152\"],[0.1,\"#c51b7d\"],[0.2,\"#de77ae\"],[0.3,\"#f1b6da\"],[0.4,\"#fde0ef\"],[0.5,\"#f7f7f7\"],[0.6,\"#e6f5d0\"],[0.7,\"#b8e186\"],[0.8,\"#7fbc41\"],[0.9,\"#4d9221\"],[1,\"#276419\"]]},\"xaxis\":{\"gridcolor\":\"white\",\"linecolor\":\"white\",\"ticks\":\"\",\"title\":{\"standoff\":15},\"zerolinecolor\":\"white\",\"automargin\":true,\"zerolinewidth\":2},\"yaxis\":{\"gridcolor\":\"white\",\"linecolor\":\"white\",\"ticks\":\"\",\"title\":{\"standoff\":15},\"zerolinecolor\":\"white\",\"automargin\":true,\"zerolinewidth\":2},\"scene\":{\"xaxis\":{\"backgroundcolor\":\"#E5ECF6\",\"gridcolor\":\"white\",\"linecolor\":\"white\",\"showbackground\":true,\"ticks\":\"\",\"zerolinecolor\":\"white\",\"gridwidth\":2},\"yaxis\":{\"backgroundcolor\":\"#E5ECF6\",\"gridcolor\":\"white\",\"linecolor\":\"white\",\"showbackground\":true,\"ticks\":\"\",\"zerolinecolor\":\"white\",\"gridwidth\":2},\"zaxis\":{\"backgroundcolor\":\"#E5ECF6\",\"gridcolor\":\"white\",\"linecolor\":\"white\",\"showbackground\":true,\"ticks\":\"\",\"zerolinecolor\":\"white\",\"gridwidth\":2}},\"shapedefaults\":{\"line\":{\"color\":\"#2a3f5f\"}},\"annotationdefaults\":{\"arrowcolor\":\"#2a3f5f\",\"arrowhead\":0,\"arrowwidth\":1},\"geo\":{\"bgcolor\":\"white\",\"landcolor\":\"#E5ECF6\",\"subunitcolor\":\"white\",\"showland\":true,\"showlakes\":true,\"lakecolor\":\"white\"},\"title\":{\"x\":0.05},\"mapbox\":{\"style\":\"light\"}}},\"xaxis\":{\"anchor\":\"y\",\"domain\":[0.0,1.0],\"title\":{\"text\":\"Total Quantity Sold\"},\"showgrid\":false},\"yaxis\":{\"anchor\":\"x\",\"domain\":[0.0,1.0],\"title\":{\"text\":\"Item Name\"},\"showgrid\":false,\"categoryorder\":\"total ascending\"},\"legend\":{\"tracegroupgap\":0},\"title\":{\"text\":\"Product Performance: Quantity Sold per Item\"},\"barmode\":\"relative\"},                        {\"responsive\": true}                    ).then(function(){\n                            \nvar gd = document.getElementById('bca5eff2-c87c-419b-bcde-1f2ad7002a6c');\nvar x = new MutationObserver(function (mutations, observer) {{\n        var display = window.getComputedStyle(gd).display;\n        if (!display || display === 'none') {{\n            console.log([gd, 'removed!']);\n            Plotly.purge(gd);\n            observer.disconnect();\n        }}\n}});\n\n// Listen for the removal of the full notebook cells\nvar notebookContainer = gd.closest('#notebook-container');\nif (notebookContainer) {{\n    x.observe(notebookContainer, {childList: true});\n}}\n\n// Listen for the clearing of the current output cell\nvar outputEl = gd.closest('.output');\nif (outputEl) {{\n    x.observe(outputEl, {childList: true});\n}}\n\n                        })                };                });            </script>        </div>"
          },
          "metadata": {}
        }
      ],
      "execution_count": null
    },
    {
      "cell_type": "markdown",
      "source": [
        "**Top Performers:** The leading products in terms of quantity sold are *'Pepsi - 12 oz cans'*, followed closely by *'Muscle Milk Protein Shake Van. 11oz'*, *'Coke Classic 12 oz cans'*, *'Diet Coke - 12 oz cans'*, and *'Sprite - 12 oz cans'*. These items seem to have significantly higher sales volumes compared to the rest, indicating a strong customer preference or effective sales strategies for these products.\n",
        "\n",
        "**Product Variety:** The range of products is quite diverse, including soft drinks, protein shakes, sugar canisters, peanut butter cups, and more, suggesting a broad inventory appealing to varied customer tastes and needs.\n",
        "\n",
        "**Sales Distribution:** The sales distribution is relatively uneven, with a sharp drop-off as we move down the list of products. While a few items have very high sales, the majority have moderate to lower sales volumes.\n",
        "\n",
        "**Potential Focus Areas:** The high sales of certain beverages like Pepsi and Coke suggest that soft drinks are popular items, potentially driving a significant portion of the revenue. This might be an area for the store to focus on for promotions or inventory management.\n",
        "\n",
        "**Sales Strategy Insights:** The data might be used to optimize inventory by ensuring that top-selling products are always in stock, while re-evaluating the carrying costs of the lower-selling items."
      ],
      "metadata": {
        "id": "LDhJqtNM5xHo"
      }
    },
    {
      "cell_type": "markdown",
      "source": [
        "# Customer Analysis"
      ],
      "metadata": {
        "id": "YMPLv9qY5xHp"
      }
    },
    {
      "cell_type": "code",
      "source": [
        "query = \"\"\"\n",
        "SELECT c.name, COUNT(*) as number_of_purchases, SUM(f.total_price) as total_spent\n",
        "FROM fact f\n",
        "JOIN customer c ON f.coustomer_key = c.coustomer_key\n",
        "GROUP BY c.name\n",
        "ORDER BY total_spent DESC;\n",
        "\n",
        "\"\"\"\n",
        "\n",
        "customer_analysis = pd.read_sql_query(query, conn)\n",
        "\n",
        "print(customer_analysis)"
      ],
      "metadata": {
        "execution": {
          "iopub.status.busy": "2024-01-06T07:46:02.107491Z",
          "iopub.execute_input": "2024-01-06T07:46:02.107922Z",
          "iopub.status.idle": "2024-01-06T07:46:04.176375Z",
          "shell.execute_reply.started": "2024-01-06T07:46:02.107882Z",
          "shell.execute_reply": "2024-01-06T07:46:04.175074Z"
        },
        "trusted": true,
        "id": "jKnnJqQH5xHp"
      },
      "outputs": [],
      "execution_count": null
    },
    {
      "cell_type": "code",
      "source": [
        "top_n = 20\n",
        "top_customers = customer_analysis.head(top_n)\n",
        "\n",
        "fig = px.bar(top_customers, x='name', y='total_spent',\n",
        "             title=f'Top {top_n} Customers by Total Spent')\n",
        "fig.update_layout(xaxis_title='Customer', yaxis_title='Total Spent')\n",
        "fig.show()"
      ],
      "metadata": {
        "execution": {
          "iopub.status.busy": "2024-01-06T07:46:04.178156Z",
          "iopub.execute_input": "2024-01-06T07:46:04.178627Z",
          "iopub.status.idle": "2024-01-06T07:46:04.268705Z",
          "shell.execute_reply.started": "2024-01-06T07:46:04.178581Z",
          "shell.execute_reply": "2024-01-06T07:46:04.267371Z"
        },
        "trusted": true,
        "id": "p8LHIM2U5xHp"
      },
      "outputs": [],
      "execution_count": null
    },
    {
      "cell_type": "code",
      "source": [
        "fig = px.histogram(customer_analysis, x='total_spent',\n",
        "                   title='Distribution of Total Spent by Customers',\n",
        "                   nbins=50)  # Adjust the number of bins as needed\n",
        "fig.update_layout(xaxis_title='Total Spent', yaxis_title='Count of Customers')\n",
        "fig.show()"
      ],
      "metadata": {
        "execution": {
          "iopub.status.busy": "2024-01-06T07:46:04.270594Z",
          "iopub.execute_input": "2024-01-06T07:46:04.271072Z",
          "iopub.status.idle": "2024-01-06T07:46:04.403769Z",
          "shell.execute_reply.started": "2024-01-06T07:46:04.271031Z",
          "shell.execute_reply": "2024-01-06T07:46:04.402561Z"
        },
        "trusted": true,
        "id": "HoabxfMa5xHq"
      },
      "outputs": [],
      "execution_count": null
    },
    {
      "cell_type": "code",
      "source": [
        "fig = px.scatter(customer_analysis, x='number_of_purchases', y='total_spent',\n",
        "                 hover_name='name', title='Number of Purchases vs Total Spent by Customers')\n",
        "fig.update_layout(xaxis_title='Number of Purchases', yaxis_title='Total Spent')\n",
        "fig.show()"
      ],
      "metadata": {
        "execution": {
          "iopub.status.busy": "2024-01-06T07:46:04.40574Z",
          "iopub.execute_input": "2024-01-06T07:46:04.407039Z",
          "iopub.status.idle": "2024-01-06T07:46:04.547204Z",
          "shell.execute_reply.started": "2024-01-06T07:46:04.406997Z",
          "shell.execute_reply": "2024-01-06T07:46:04.545868Z"
        },
        "trusted": true,
        "id": "eV-LGPUb5xHq"
      },
      "outputs": [],
      "execution_count": null
    },
    {
      "cell_type": "code",
      "source": [
        "customer_analysis_sorted = customer_analysis.sort_values('total_spent', ascending=False)\n",
        "customer_analysis_sorted['cumulative_spent'] = customer_analysis_sorted['total_spent'].cumsum()\n",
        "customer_analysis_sorted['cumulative_percentage'] = 100 * customer_analysis_sorted['cumulative_spent'] / customer_analysis_sorted['total_spent'].sum()\n",
        "\n",
        "fig = px.line(customer_analysis_sorted, y='cumulative_percentage',\n",
        "              title='Cumulative Distribution of Total Spent by Customers')\n",
        "fig.update_layout(xaxis_title='Number of Customers', yaxis_title='Cumulative Percentage of Total Spent')\n",
        "fig.update_xaxes(range=[0, top_n])  # Adjust the range as needed\n",
        "fig.show()"
      ],
      "metadata": {
        "execution": {
          "iopub.status.busy": "2024-01-06T07:46:04.54918Z",
          "iopub.execute_input": "2024-01-06T07:46:04.549723Z",
          "iopub.status.idle": "2024-01-06T07:46:04.656853Z",
          "shell.execute_reply.started": "2024-01-06T07:46:04.549663Z",
          "shell.execute_reply": "2024-01-06T07:46:04.655931Z"
        },
        "trusted": true,
        "id": "1Z0kbc-U5xHr"
      },
      "outputs": [],
      "execution_count": null
    },
    {
      "cell_type": "markdown",
      "source": [
        "**Cumulative Distribution of Total Spent by Customers**\n",
        "\n",
        "This line graph shows that a small number of customers account for a large percentage of the total spending. This kind of distribution is typical of a *Pareto principle (or 80/20 rule)* where the majority of sales come from a minority of customers. This indicates that the business might rely on a core group of high-spending customers.\n",
        "\n",
        "**Number of Purchases vs Total Spent by Customers**\n",
        "\n",
        "The scatter plot suggests a positive correlation between the number of purchases and the total amount spent, which is to be expected. However, there are customers with a high number of purchases but relatively lower total spending, indicating they may be buying less expensive items more frequently. Conversely, there are customers with fewer purchases but higher spending, possibly indicating larger transactions or the purchase of higher-priced items.\n",
        "\n",
        "**Distribution of Total Spent by Customers**\n",
        "\n",
        "The histogram shows that most customers spend in the lower monetary range, with a very steep drop-off as spending amounts increase. This further indicates that there are only a few high-spending customers, while the majority spend much less.\n",
        "\n",
        "**Top 20 Customers by Total Spent**\n",
        "\n",
        "The bar chart of the top 20 customers by total spent clearly shows that the top customer, Pooja, has a significantly higher total spending than the others. There is a gradual decline in spending among the remaining top customers. This reinforces the importance of the top spenders to the overall sales and may suggest that personalized marketing strategies or loyalty programs could be effective for maintaining their engagement.\n",
        "\n",
        "**Overall Summary**\n",
        "\n",
        "The customer analysis data and the visualizations suggest that the business has a wide range of customers, but is heavily supported by a small segment of high-value customers. The company might benefit from strategies aimed at increasing the spend of lower-tier customers while maintaining the loyalty of the top-tier ones. Understanding the purchasing patterns and preferences of these key segments could drive targeted marketing campaigns, personalized promotions, and tailored product recommendations to enhance customer value across the board.\n",
        "\n",
        "Given the importance of the top spending customers, a customer relationship management (CRM) strategy could be particularly effective. Additionally, analyzing the data to understand the factors influencing the higher number of transactions and the high-value purchases could provide actionable insights for business growth and customer satisfaction improvement."
      ],
      "metadata": {
        "id": "3-GEFwXc5xHs"
      }
    },
    {
      "cell_type": "markdown",
      "source": [
        "# Store Performance by Location"
      ],
      "metadata": {
        "id": "SpsU4h-w5xHt"
      }
    },
    {
      "cell_type": "code",
      "source": [
        "query = \"\"\"\n",
        "SELECT s.division, s.district, SUM(f.total_price) as sales\n",
        "FROM fact f\n",
        "JOIN store s ON f.store_key = s.store_key\n",
        "GROUP BY s.division, s.district\n",
        "ORDER BY sales DESC;\n",
        "\"\"\"\n",
        "\n",
        "store_perf_by_loc = pd.read_sql_query(query, conn)\n",
        "print(store_perf_by_loc)"
      ],
      "metadata": {
        "execution": {
          "iopub.status.busy": "2024-01-06T07:46:04.658277Z",
          "iopub.execute_input": "2024-01-06T07:46:04.659401Z",
          "iopub.status.idle": "2024-01-06T07:46:07.042046Z",
          "shell.execute_reply.started": "2024-01-06T07:46:04.659358Z",
          "shell.execute_reply": "2024-01-06T07:46:07.040728Z"
        },
        "trusted": true,
        "id": "Ws3sCLPY5xHt"
      },
      "outputs": [],
      "execution_count": null
    },
    {
      "cell_type": "code",
      "source": [
        "fig = px.treemap(store_perf_by_loc, path=['division', 'district'], values='sales',\n",
        "                 title='Store Performance by Division and District')\n",
        "fig.show()"
      ],
      "metadata": {
        "execution": {
          "iopub.status.busy": "2024-01-06T07:46:07.043742Z",
          "iopub.execute_input": "2024-01-06T07:46:07.044226Z",
          "iopub.status.idle": "2024-01-06T07:46:07.187963Z",
          "shell.execute_reply.started": "2024-01-06T07:46:07.044182Z",
          "shell.execute_reply": "2024-01-06T07:46:07.186585Z"
        },
        "trusted": true,
        "id": "1A8VK2Oq5xHt"
      },
      "outputs": [],
      "execution_count": null
    },
    {
      "cell_type": "code",
      "source": [
        "top_n = 20\n",
        "top_locations = store_perf_by_loc.head(top_n)\n",
        "\n",
        "fig = px.bar(top_locations, x='sales', y='division',\n",
        "             title=f'Top {top_n} Performing Divisions and Districts by Sales')\n",
        "fig.update_layout(xaxis_title='Sales', yaxis_title='Division - District')\n",
        "fig.show()"
      ],
      "metadata": {
        "execution": {
          "iopub.status.busy": "2024-01-06T07:46:07.189574Z",
          "iopub.execute_input": "2024-01-06T07:46:07.190057Z",
          "iopub.status.idle": "2024-01-06T07:46:07.27142Z",
          "shell.execute_reply.started": "2024-01-06T07:46:07.190015Z",
          "shell.execute_reply": "2024-01-06T07:46:07.270194Z"
        },
        "trusted": true,
        "id": "072vDnX15xHu"
      },
      "outputs": [],
      "execution_count": null
    },
    {
      "cell_type": "code",
      "source": [
        "fig = px.bar(store_perf_by_loc, x='division', y='sales', color='district',\n",
        "             title='Sales Breakdown by Division and District')\n",
        "fig.update_layout(xaxis_title='Division', yaxis_title='Sales')\n",
        "fig.show()"
      ],
      "metadata": {
        "execution": {
          "iopub.status.busy": "2024-01-06T07:46:07.273584Z",
          "iopub.execute_input": "2024-01-06T07:46:07.274435Z",
          "iopub.status.idle": "2024-01-06T07:46:07.838112Z",
          "shell.execute_reply.started": "2024-01-06T07:46:07.274388Z",
          "shell.execute_reply": "2024-01-06T07:46:07.836985Z"
        },
        "trusted": true,
        "id": "M3i2_ruh5xHu"
      },
      "outputs": [],
      "execution_count": null
    },
    {
      "cell_type": "markdown",
      "source": [
        "**Sales Breakdown by Division and District**\n",
        "\n",
        "The stacked bar chart illustrates the sales distribution across various divisions and their constituent districts. Dhaka division, with Dhaka district in particular, dominates the sales figures, indicating a strong market presence or consumer base in the capital region. The chart also displays the sales contributions from other divisions like Chittagong and Khulna, which are substantial but significantly lower than Dhaka.\n",
        "\n",
        "**Top 20 Performing Divisions and Districts by Sales**\n",
        "\n",
        "The bar chart ranking the top-performing divisions and districts emphasizes the disproportionate sales volume generated by Dhaka. It suggests a steep gradient in sales performance, with each subsequent division contributing a smaller fraction to the total sales. This chart underscores the importance of the Dhaka market to the business's success.\n",
        "\n",
        "**Store Performance by Division and District**\n",
        "\n",
        "The treemap provides a visual summary of the sales performance, with the size of each block representing the sales volume of a district within its division. Dhaka's district is prominently the largest, while other divisions such as Chittagong, Rajshahi, Barisal, and Sylhet are relatively smaller yet notable contributors.\n",
        "\n",
        "**Overall Summary**\n",
        "\n",
        "Across the visualizations, it's clear that the business's performance is heavily skewed towards the Dhaka division, and within it, primarily the Dhaka district, which could be due to a larger customer base, higher population density, or greater store presence. The significant drop in sales volume outside of Dhaka suggests a potential for growth in other divisions. Strategies such as targeted marketing, expansion of store locations, or localized promotions might be effective in tapping into the sales potential of other districts.\n",
        "\n",
        "The visualizations also highlight that while Dhaka is the key market, other regions contribute meaningfully to the sales diversity. It's crucial for the business to understand the dynamics of the Dhaka market to sustain its dominance while also crafting tailored approaches to bolster sales in other divisions.\n",
        "\n",
        "The data implies that the business may benefit from diversifying its presence and investing in growth opportunities outside of the Dhaka division to mitigate the risk of over-reliance on a single market. Understanding the customer demographics, preferences, and spending power in each division and district will be key to crafting successful regional strategies."
      ],
      "metadata": {
        "id": "byusRL175xHu"
      }
    },
    {
      "cell_type": "markdown",
      "source": [
        "# Payment Method Preferences"
      ],
      "metadata": {
        "id": "2RC0zp9O5xHu"
      }
    },
    {
      "cell_type": "code",
      "source": [
        "query = \"\"\"\n",
        "SELECT p.trans_type, COUNT(*) as transaction_count, SUM(f.total_price) as total_amount\n",
        "FROM fact f\n",
        "JOIN trans p ON f.payment_key = p.payment_key\n",
        "GROUP BY p.trans_type\n",
        "ORDER BY transaction_count DESC;\n",
        "\"\"\"\n",
        "\n",
        "payment_method_preferences = pd.read_sql_query(query, conn)\n",
        "\n",
        "print(payment_method_preferences)"
      ],
      "metadata": {
        "execution": {
          "iopub.status.busy": "2024-01-06T07:46:07.839747Z",
          "iopub.execute_input": "2024-01-06T07:46:07.840228Z",
          "iopub.status.idle": "2024-01-06T07:46:09.088923Z",
          "shell.execute_reply.started": "2024-01-06T07:46:07.840182Z",
          "shell.execute_reply": "2024-01-06T07:46:09.087557Z"
        },
        "trusted": true,
        "id": "ZbgeSCVx5xHv"
      },
      "outputs": [],
      "execution_count": null
    },
    {
      "cell_type": "code",
      "source": [
        "fig = px.bar(payment_method_preferences, x='trans_type', y='transaction_count',\n",
        "             title='Transaction Count by Payment Method')\n",
        "fig.update_layout(xaxis_title='Payment Method', yaxis_title='Transaction Count')\n",
        "fig.show()"
      ],
      "metadata": {
        "execution": {
          "iopub.status.busy": "2024-01-06T07:46:09.090908Z",
          "iopub.execute_input": "2024-01-06T07:46:09.091371Z",
          "iopub.status.idle": "2024-01-06T07:46:09.173333Z",
          "shell.execute_reply.started": "2024-01-06T07:46:09.091325Z",
          "shell.execute_reply": "2024-01-06T07:46:09.172131Z"
        },
        "trusted": true,
        "id": "dVX4yxmN5xHv"
      },
      "outputs": [],
      "execution_count": null
    },
    {
      "cell_type": "code",
      "source": [
        "# Pie chart for transaction count\n",
        "fig = px.pie(payment_method_preferences, names='trans_type', values='transaction_count',\n",
        "             title='Proportion of Transactions by Payment Method')\n",
        "fig.show()\n",
        "\n",
        "# Pie chart for total amount\n",
        "fig = px.pie(payment_method_preferences, names='trans_type', values='total_amount',\n",
        "             title='Proportion of Total Amount by Payment Method')\n",
        "fig.show()"
      ],
      "metadata": {
        "execution": {
          "iopub.status.busy": "2024-01-06T07:46:09.175172Z",
          "iopub.execute_input": "2024-01-06T07:46:09.175777Z",
          "iopub.status.idle": "2024-01-06T07:46:09.327813Z",
          "shell.execute_reply.started": "2024-01-06T07:46:09.175732Z",
          "shell.execute_reply": "2024-01-06T07:46:09.326392Z"
        },
        "trusted": true,
        "id": "yJVczDs25xHv"
      },
      "outputs": [],
      "execution_count": null
    },
    {
      "cell_type": "markdown",
      "source": [
        "**Proportion of Total Amount by Payment Method**\n",
        "\n",
        "The pie chart shows a dominant preference for *card payments*, accounting for almost **90%** of the total amount spent. *Mobile payments* and cash are used far less frequently, with mobile payments making up approximately **7.69%** and *cash transactions* only about **2.5%**. This indicates a strong consumer inclination towards card transactions for their purchases.\n",
        "\n",
        "**Proportion of Transactions by Payment Method**\n",
        "\n",
        "A similar distribution is observed in the second pie chart for the proportion of transactions by payment method, with card transactions leading significantly. This suggests that not only do customers prefer to spend more when using cards, but they also tend to make a higher number of transactions with cards.\n",
        "\n",
        "**Transaction Count by Payment Method**\n",
        "\n",
        "The bar chart further emphasizes the dominance of card payments in terms of transaction count, with card transactions vastly outnumbering those of mobile payments and cash. The card transactions are the most favored method, suggesting ease of use, possible rewards incentives, customer habits, or a broader shift towards digital payment solutions.\n",
        "\n",
        "**Overall Summary**\n",
        "\n",
        "The data and visualizations collectively illustrate a clear preference for card payments among customers, both in terms of the total monetary amount and the number of transactions. This trend reflects a consumer shift towards cashless transactions, which could be driven by the convenience of cards, the rise of online shopping, or the availability of card-based loyalty points and rewards.\n",
        "\n",
        "Mobile payments, while significantly less than card payments, still represent a notable portion of transactions, indicating that a segment of the customer base is engaged with digital and mobile payment platforms. Cash, while the least utilized method, still maintains a presence, highlighting that some customer segments may prefer traditional payment methods or that there are transactions where cash is necessary or more convenient.\n",
        "\n",
        "For the business, this information could be crucial for tailoring payment options to customer preferences, potentially streamlining operations, and maybe even incentivizing certain payment methods. The heavy preference for card payments suggests that ensuring a smooth and secure card transaction process could enhance customer satisfaction and potentially increase sales. The data might also inform decisions around whether to invest in infrastructure to support emerging payment technologies, like mobile wallets, to cater to the tech-savvy consumer segment."
      ],
      "metadata": {
        "id": "-GxlCCv-5xHv"
      }
    },
    {
      "cell_type": "markdown",
      "source": [
        "# Time of Day Analysis"
      ],
      "metadata": {
        "id": "-XA6-Q-o5xHv"
      }
    },
    {
      "cell_type": "code",
      "source": [
        "query = \"\"\"\n",
        "SELECT t.hour, COUNT(*) as number_of_transactions, SUM(f.total_price) as total_sales\n",
        "FROM fact f\n",
        "JOIN time t ON f.time_key = t.time_key\n",
        "GROUP BY t.hour\n",
        "ORDER BY total_sales DESC;\n",
        "\n",
        "\"\"\"\n",
        "\n",
        "time_of_day_analysis = pd.read_sql_query(query, conn)\n",
        "\n",
        "print(time_of_day_analysis)"
      ],
      "metadata": {
        "execution": {
          "iopub.status.busy": "2024-01-06T07:46:09.329538Z",
          "iopub.execute_input": "2024-01-06T07:46:09.330096Z",
          "iopub.status.idle": "2024-01-06T07:46:11.673089Z",
          "shell.execute_reply.started": "2024-01-06T07:46:09.330046Z",
          "shell.execute_reply": "2024-01-06T07:46:11.671895Z"
        },
        "trusted": true,
        "id": "5KnE8JA05xHw"
      },
      "outputs": [],
      "execution_count": null
    },
    {
      "cell_type": "code",
      "source": [
        "import matplotlib.pyplot as plt\n",
        "from matplotlib.animation import FuncAnimation\n",
        "import pandas as pd\n",
        "\n",
        "# Preparing the DataFrame\n",
        "time_of_day_analysis['cumulative_sales'] = time_of_day_analysis['total_sales'].cumsum()\n",
        "time_of_day_analysis['cumulative_transactions'] = time_of_day_analysis['number_of_transactions'].cumsum()\n",
        "\n",
        "# Create the figure and the line that we will manipulate\n",
        "fig, ax = plt.subplots()\n",
        "line1, = ax.plot([], [], lw=2, label='Cumulative Sales')\n",
        "line2, = ax.plot([], [], lw=2, label='Cumulative Transactions')\n",
        "ax.set_xlim(0, 23)\n",
        "ax.set_ylim(0, max(time_of_day_analysis['cumulative_sales'].max(),\n",
        "                   time_of_day_analysis['cumulative_transactions'].max()))\n",
        "ax.set_xlabel('Hour of the Day')\n",
        "ax.set_ylabel('Cumulative Value')\n",
        "ax.legend()\n",
        "ax.grid()\n",
        "\n",
        "# Initialization function: plot the background of each frame\n",
        "def init():\n",
        "    line1.set_data([], [])\n",
        "    line2.set_data([], [])\n",
        "    return line1, line2,\n",
        "\n",
        "# Animation function: this is called sequentially\n",
        "def animate(hour):\n",
        "    x = time_of_day_analysis.index[:hour+1]\n",
        "    y1 = time_of_day_analysis['cumulative_sales'][:hour+1]\n",
        "    y2 = time_of_day_analysis['cumulative_transactions'][:hour+1]\n",
        "    line1.set_data(x, y1)\n",
        "    line2.set_data(x, y2)\n",
        "    return line1, line2,\n",
        "\n",
        "# Call the animator\n",
        "anim = FuncAnimation(fig, animate, init_func=init, frames=24, interval=200, blit=True)\n",
        "\n",
        "# To show the animation inline in Jupyter Notebook\n",
        "from IPython.display import HTML\n",
        "HTML(anim.to_jshtml())"
      ],
      "metadata": {
        "execution": {
          "iopub.status.busy": "2024-01-06T07:46:11.674929Z",
          "iopub.execute_input": "2024-01-06T07:46:11.675436Z",
          "iopub.status.idle": "2024-01-06T07:46:14.996204Z",
          "shell.execute_reply.started": "2024-01-06T07:46:11.675397Z",
          "shell.execute_reply": "2024-01-06T07:46:14.994975Z"
        },
        "trusted": true,
        "id": "-CSpk2fO5xHw"
      },
      "outputs": [],
      "execution_count": null
    },
    {
      "cell_type": "code",
      "source": [
        "fig = px.bar(time_of_day_analysis, x='hour', y=['total_sales', 'number_of_transactions'],\n",
        "             title='Comparative Analysis of Sales and Transactions by Hour of the Day')\n",
        "fig.update_layout(xaxis_title='Hour of the Day', yaxis_title='Sales / Transactions Count', barmode='group')\n",
        "fig.show()\n"
      ],
      "metadata": {
        "execution": {
          "iopub.status.busy": "2024-01-06T07:46:14.997774Z",
          "iopub.execute_input": "2024-01-06T07:46:14.998137Z",
          "iopub.status.idle": "2024-01-06T07:46:15.092318Z",
          "shell.execute_reply.started": "2024-01-06T07:46:14.998106Z",
          "shell.execute_reply": "2024-01-06T07:46:15.090867Z"
        },
        "trusted": true,
        "id": "MrXGCWHx5xHw"
      },
      "outputs": [],
      "execution_count": null
    },
    {
      "cell_type": "code",
      "source": [
        "time_of_day_analysis['cumulative_sales'] = time_of_day_analysis['total_sales'].cumsum()\n",
        "\n",
        "fig = px.area(time_of_day_analysis, x='hour', y='cumulative_sales',\n",
        "              title='Cumulative Sales by Hour of the Day')\n",
        "fig.update_layout(xaxis_title='Hour of the Day', yaxis_title='Cumulative Sales', xaxis=dict(tickmode='linear'))\n",
        "fig.show()"
      ],
      "metadata": {
        "execution": {
          "iopub.status.busy": "2024-01-06T07:46:15.094189Z",
          "iopub.execute_input": "2024-01-06T07:46:15.095378Z",
          "iopub.status.idle": "2024-01-06T07:46:15.188312Z",
          "shell.execute_reply.started": "2024-01-06T07:46:15.095331Z",
          "shell.execute_reply": "2024-01-06T07:46:15.187053Z"
        },
        "trusted": true,
        "id": "oPj8up0b5xH3"
      },
      "outputs": [],
      "execution_count": null
    },
    {
      "cell_type": "markdown",
      "source": [
        "# Correlation Between Sales and Other Factors"
      ],
      "metadata": {
        "id": "0vzCkMeW5xH3"
      }
    },
    {
      "cell_type": "code",
      "source": [
        "query = \"\"\"\n",
        "SELECT i.desc, s.division, SUM(f.total_price) as sales\n",
        "FROM fact f\n",
        "JOIN item i ON f.item_key = i.item_key\n",
        "JOIN store s ON f.store_key = s.store_key\n",
        "GROUP BY i.desc, s.division\n",
        "ORDER BY sales DESC;\n",
        "\"\"\"\n",
        "\n",
        "corr_sales_and_other = pd.read_sql_query(query, conn)\n",
        "print(corr_sales_and_other)"
      ],
      "metadata": {
        "execution": {
          "iopub.status.busy": "2024-01-06T07:46:15.194002Z",
          "iopub.execute_input": "2024-01-06T07:46:15.194489Z",
          "iopub.status.idle": "2024-01-06T07:46:18.244141Z",
          "shell.execute_reply.started": "2024-01-06T07:46:15.194447Z",
          "shell.execute_reply": "2024-01-06T07:46:18.242826Z"
        },
        "trusted": true,
        "id": "9jEZBn5a5xH4"
      },
      "outputs": [],
      "execution_count": null
    },
    {
      "cell_type": "code",
      "source": [
        "import seaborn as sns\n",
        "import matplotlib.pyplot as plt\n",
        "%matplotlib inline\n",
        "import pandas as pd\n",
        "\n",
        "# Pivot the data for the heatmap\n",
        "heatmap_data = pd.pivot_table(corr_sales_and_other, values='sales', index='desc', columns='division', aggfunc='sum')\n",
        "\n",
        "# Create the heatmap\n",
        "plt.figure(figsize=(12, 8))  # You might need to adjust the size for better visibility\n",
        "sns.heatmap(heatmap_data, annot=True, fmt=\".0f\", cmap=\"YlGnBu\")\n",
        "plt.title(\"Sales by Item Description and Store Division\")\n",
        "plt.ylabel('Item Description')\n",
        "plt.xlabel('Store Division')\n",
        "plt.show()"
      ],
      "metadata": {
        "execution": {
          "iopub.status.busy": "2024-01-06T07:46:18.245786Z",
          "iopub.execute_input": "2024-01-06T07:46:18.246176Z",
          "iopub.status.idle": "2024-01-06T07:46:20.438261Z",
          "shell.execute_reply.started": "2024-01-06T07:46:18.246142Z",
          "shell.execute_reply": "2024-01-06T07:46:20.436684Z"
        },
        "trusted": true,
        "id": "8_A2Gugr5xH5"
      },
      "outputs": [],
      "execution_count": null
    },
    {
      "cell_type": "code",
      "source": [
        "heatmap_data"
      ],
      "metadata": {
        "execution": {
          "iopub.status.busy": "2024-01-06T07:46:20.439958Z",
          "iopub.execute_input": "2024-01-06T07:46:20.440497Z",
          "iopub.status.idle": "2024-01-06T07:46:20.482409Z",
          "shell.execute_reply.started": "2024-01-06T07:46:20.440446Z",
          "shell.execute_reply": "2024-01-06T07:46:20.481043Z"
        },
        "trusted": true,
        "id": "meB-2Ucu5xH6"
      },
      "outputs": [],
      "execution_count": null
    },
    {
      "cell_type": "code",
      "source": [
        "fig = px.treemap(corr_sales_and_other, path=['desc', 'division'], values='sales',\n",
        "                 title='Sales Distribution across Items and Divisions')\n",
        "fig.show()"
      ],
      "metadata": {
        "execution": {
          "iopub.status.busy": "2024-01-06T07:46:20.484158Z",
          "iopub.execute_input": "2024-01-06T07:46:20.486016Z",
          "iopub.status.idle": "2024-01-06T07:46:20.620266Z",
          "shell.execute_reply.started": "2024-01-06T07:46:20.485966Z",
          "shell.execute_reply": "2024-01-06T07:46:20.61883Z"
        },
        "trusted": true,
        "id": "9lD_0SVz5xH7"
      },
      "outputs": [],
      "execution_count": null
    },
    {
      "cell_type": "code",
      "source": [
        "fig = px.scatter(corr_sales_and_other, x=\"desc\", y=\"division\", size=\"sales\",\n",
        "                 title=\"Sales Distribution as Bubble Chart\")\n",
        "fig.update_layout(xaxis_title='Item Description', yaxis_title='Division')\n",
        "fig.show()"
      ],
      "metadata": {
        "execution": {
          "iopub.status.busy": "2024-01-06T07:46:20.622048Z",
          "iopub.execute_input": "2024-01-06T07:46:20.622539Z",
          "iopub.status.idle": "2024-01-06T07:46:20.713123Z",
          "shell.execute_reply.started": "2024-01-06T07:46:20.622493Z",
          "shell.execute_reply": "2024-01-06T07:46:20.71205Z"
        },
        "trusted": true,
        "id": "x04s1SiC5xH8"
      },
      "outputs": [],
      "execution_count": null
    },
    {
      "cell_type": "markdown",
      "source": [
        "**Sales by Item Description and Store Division**\n",
        "\n",
        "The heatmap shows a detailed breakdown of sales by item and store division. It is immediately apparent that certain items, such as 'Food - Healthy' and 'Beverage - Energy/Protein', have high sales volumes across multiple divisions, with particularly strong performance in the Dhaka division. This suggests that these items are popular and widely consumed, making them key products for the business.\n",
        "\n",
        "**Sales Distribution as Bubble Chart**\n",
        "\n",
        "The bubble chart provides a visual representation of the sales distribution across different divisions and items. Larger bubbles indicate higher sales volumes. Dhaka division again stands out, with larger bubbles across various item categories, signifying higher sales in this region. This visualization also allows for a comparison between divisions and the popularity of specific items within those divisions.\n",
        "\n",
        "**Sales Distribution across Items and Divisions**\n",
        "\n",
        "The treemap visualization further emphasizes the disproportionate sales contribution from the Dhaka division across a variety of item categories. It appears that Dhaka not only has a higher concentration of sales overall but also a diverse range of products contributing to its sales figures.\n",
        "\n",
        "**Overall Summary**\n",
        "\n",
        "The sales data and visualizations collectively suggest a market where the Dhaka division dominates in terms of sales volume across a broad range of product categories. This could be due to a larger customer base, higher population density, or a concentration of wealth in this region.\n",
        "\n",
        "The strong performance of certain items such as healthy foods and energy/protein beverages indicates a consumer preference for these products, potentially driven by health consciousness or lifestyle choices.\n",
        "\n",
        "The visual disparity in sales across divisions suggests the potential for growth in other regions. There may be opportunities to increase market penetration in divisions outside of Dhaka by tailoring marketing strategies to local preferences and increasing distribution channels.\n",
        "\n",
        "For the business, understanding the reasons behind the popularity of certain items and the dominance of specific divisions could inform strategic decisions around inventory stocking, promotional efforts, and expansion planning. Additionally, the diversity in product popularity suggests that a one-size-fits-all approach may not be effective; instead, a tailored strategy that considers regional preferences and purchasing power could be more successful.\n",
        "\n",
        "The data indicates that while the business has strongholds in certain areas and with certain products, there is room for strategic initiatives to capitalize on untapped market potential in other divisions and with less popular items."
      ],
      "metadata": {
        "id": "FzUkNFdu5xH9"
      }
    },
    {
      "cell_type": "code",
      "source": [
        "from IPython.display import display, HTML, Image\n",
        "\n",
        "# Replace the LinkedIn URL with your own profile's URL\n",
        "linkedin_profile_url = \"https://www.linkedin.com/in/venkateshtantravahi/\"\n",
        "\n",
        "# HTML code for the image and button\n",
        "html_code = f\"\"\"\n",
        "<html>\n",
        "<body>\n",
        "Thank you for your time and attention during this analysis. Let's stay connected!\n",
        "<div style=\"text-align: center;\">\n",
        "<a href=\"{linkedin_profile_url}\" target=\"_blank\">\n",
        "<button style='color: white; background-color: #0072b1; padding: 10px 20px; border-radius: 5px; border: none; cursor: pointer;'>\n",
        "Follow me on LinkedIn\n",
        "</button>\n",
        "</a>\n",
        "</div>\n",
        "</body>\n",
        "</html>\n",
        "\"\"\"\n",
        "\n",
        "# Display the image and button in the notebook\n",
        "display(HTML(html_code))"
      ],
      "metadata": {
        "execution": {
          "iopub.status.busy": "2024-01-06T08:18:52.600432Z",
          "iopub.execute_input": "2024-01-06T08:18:52.601926Z",
          "iopub.status.idle": "2024-01-06T08:18:52.611405Z",
          "shell.execute_reply.started": "2024-01-06T08:18:52.60187Z",
          "shell.execute_reply": "2024-01-06T08:18:52.610107Z"
        },
        "_kg_hide-input": true,
        "_kg_hide-output": false,
        "trusted": true,
        "id": "jggeRNJZ5xH9"
      },
      "outputs": [],
      "execution_count": null
    },
    {
      "cell_type": "code",
      "source": [],
      "metadata": {
        "id": "S9ZxQx6i5xH-"
      },
      "outputs": [],
      "execution_count": null
    }
  ]
}